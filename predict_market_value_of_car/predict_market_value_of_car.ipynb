{
 "cells": [
  {
   "cell_type": "markdown",
   "metadata": {},
   "source": [
    "# Описание проекта\n",
    "\n",
    "Сервис по продаже автомобилей с пробегом «Не бит, не крашен» разрабатывает приложение для привлечения новых клиентов. В нём можно быстро узнать рыночную стоимость своего автомобиля. В вашем распоряжении исторические данные: технические характеристики, комплектации и цены автомобилей. Вам нужно построить модель для определения стоимости.\n",
    "\n",
    "Заказчику важны:\n",
    "- качество предсказания;\n",
    "- скорость предсказания;\n",
    "- время обучения."
   ]
  },
  {
   "cell_type": "markdown",
   "metadata": {},
   "source": [
    "## Инструкция по выполнению проекта\n",
    "\n",
    "1. Загрузите и подготовьте данные.\n",
    "2. Обучите разные модели с различными гиперпараметрами.\n",
    "3. Проанализируйте скорость работы и качество моделей.\n",
    "\n",
    "Примечания:\n",
    "- Для оценки качества моделей применяйте метрику RMSE.\n",
    "- Самостоятельно освойте библиотеку LightGBM и её средствами постройте модели градиентного бустинга.\n",
    "- Время выполнения ячейки кода Jupyter Notebook можно получить специальной командой. Найдите её.\n",
    "- Поскольку модель градиентного бустинга может обучаться долго, измените у неё только два-три параметра."
   ]
  },
  {
   "cell_type": "markdown",
   "metadata": {},
   "source": [
    "## Описание данных\n",
    "\n",
    "Данные находятся в файле `/datasets/autos.csv`\n",
    "\n",
    "### Признаки\n",
    "- DateCrawled — дата скачивания анкеты из базы\n",
    "- VehicleType — тип автомобильного кузова\n",
    "- RegistrationYear — год регистрации автомобиля\n",
    "- Gearbox — тип коробки передач\n",
    "- Power — мощность (л. с.)\n",
    "- Model — модель автомобиля\n",
    "- Kilometer — пробег (км)\n",
    "- RegistrationMonth — месяц регистрации автомобиля\n",
    "- FuelType — тип топлива\n",
    "- Brand — марка автомобиля\n",
    "- NotRepaired — была машина в ремонте или нет\n",
    "- DateCreated — дата создания анкеты\n",
    "- NumberOfPictures — количество фотографий автомобиля\n",
    "- PostalCode — почтовый индекс владельца анкеты (пользователя)\n",
    "- LastSeen — дата последней активности пользователя\n",
    "\n",
    "### Целевой признак\n",
    "- Price — цена (евро)"
   ]
  },
  {
   "cell_type": "code",
   "execution_count": 1,
   "metadata": {},
   "outputs": [],
   "source": [
    "from sklearn.linear_model import LinearRegression\n",
    "from sklearn.preprocessing import OneHotEncoder, StandardScaler\n",
    "from sklearn.model_selection import GridSearchCV\n",
    "from sklearn.dummy import DummyRegressor\n",
    "from sklearn.preprocessing import StandardScaler\n",
    "from sklearn.metrics import mean_squared_error\n",
    "from sklearn.model_selection import train_test_split\n",
    "\n",
    "from catboost import CatBoostRegressor, Pool\n",
    "\n",
    "from lightgbm import LGBMRegressor\n",
    "\n",
    "import pandas as pd\n",
    "import numpy as np\n",
    "\n",
    "import matplotlib.pyplot as plt\n",
    "%matplotlib inline\n",
    "\n",
    "import seaborn as sns"
   ]
  },
  {
   "cell_type": "code",
   "execution_count": 2,
   "metadata": {},
   "outputs": [],
   "source": [
    "data = pd.read_csv('/datasets/autos.csv')"
   ]
  },
  {
   "cell_type": "markdown",
   "metadata": {},
   "source": [
    "## Изучение данных"
   ]
  },
  {
   "cell_type": "code",
   "execution_count": 3,
   "metadata": {},
   "outputs": [
    {
     "name": "stdout",
     "output_type": "stream",
     "text": [
      "<class 'pandas.core.frame.DataFrame'>\n",
      "RangeIndex: 354369 entries, 0 to 354368\n",
      "Data columns (total 16 columns):\n",
      " #   Column             Non-Null Count   Dtype \n",
      "---  ------             --------------   ----- \n",
      " 0   DateCrawled        354369 non-null  object\n",
      " 1   Price              354369 non-null  int64 \n",
      " 2   VehicleType        316879 non-null  object\n",
      " 3   RegistrationYear   354369 non-null  int64 \n",
      " 4   Gearbox            334536 non-null  object\n",
      " 5   Power              354369 non-null  int64 \n",
      " 6   Model              334664 non-null  object\n",
      " 7   Kilometer          354369 non-null  int64 \n",
      " 8   RegistrationMonth  354369 non-null  int64 \n",
      " 9   FuelType           321474 non-null  object\n",
      " 10  Brand              354369 non-null  object\n",
      " 11  NotRepaired        283215 non-null  object\n",
      " 12  DateCreated        354369 non-null  object\n",
      " 13  NumberOfPictures   354369 non-null  int64 \n",
      " 14  PostalCode         354369 non-null  int64 \n",
      " 15  LastSeen           354369 non-null  object\n",
      "dtypes: int64(7), object(9)\n",
      "memory usage: 43.3+ MB\n"
     ]
    }
   ],
   "source": [
    "data.info()"
   ]
  },
  {
   "cell_type": "code",
   "execution_count": 4,
   "metadata": {},
   "outputs": [
    {
     "data": {
      "text/html": [
       "<div>\n",
       "<style scoped>\n",
       "    .dataframe tbody tr th:only-of-type {\n",
       "        vertical-align: middle;\n",
       "    }\n",
       "\n",
       "    .dataframe tbody tr th {\n",
       "        vertical-align: top;\n",
       "    }\n",
       "\n",
       "    .dataframe thead th {\n",
       "        text-align: right;\n",
       "    }\n",
       "</style>\n",
       "<table border=\"1\" class=\"dataframe\">\n",
       "  <thead>\n",
       "    <tr style=\"text-align: right;\">\n",
       "      <th></th>\n",
       "      <th>Price</th>\n",
       "      <th>RegistrationYear</th>\n",
       "      <th>Power</th>\n",
       "      <th>Kilometer</th>\n",
       "      <th>RegistrationMonth</th>\n",
       "      <th>NumberOfPictures</th>\n",
       "      <th>PostalCode</th>\n",
       "    </tr>\n",
       "  </thead>\n",
       "  <tbody>\n",
       "    <tr>\n",
       "      <th>count</th>\n",
       "      <td>354369.000000</td>\n",
       "      <td>354369.000000</td>\n",
       "      <td>354369.000000</td>\n",
       "      <td>354369.000000</td>\n",
       "      <td>354369.000000</td>\n",
       "      <td>354369.0</td>\n",
       "      <td>354369.000000</td>\n",
       "    </tr>\n",
       "    <tr>\n",
       "      <th>mean</th>\n",
       "      <td>4416.656776</td>\n",
       "      <td>2004.234448</td>\n",
       "      <td>110.094337</td>\n",
       "      <td>128211.172535</td>\n",
       "      <td>5.714645</td>\n",
       "      <td>0.0</td>\n",
       "      <td>50508.689087</td>\n",
       "    </tr>\n",
       "    <tr>\n",
       "      <th>std</th>\n",
       "      <td>4514.158514</td>\n",
       "      <td>90.227958</td>\n",
       "      <td>189.850405</td>\n",
       "      <td>37905.341530</td>\n",
       "      <td>3.726421</td>\n",
       "      <td>0.0</td>\n",
       "      <td>25783.096248</td>\n",
       "    </tr>\n",
       "    <tr>\n",
       "      <th>min</th>\n",
       "      <td>0.000000</td>\n",
       "      <td>1000.000000</td>\n",
       "      <td>0.000000</td>\n",
       "      <td>5000.000000</td>\n",
       "      <td>0.000000</td>\n",
       "      <td>0.0</td>\n",
       "      <td>1067.000000</td>\n",
       "    </tr>\n",
       "    <tr>\n",
       "      <th>25%</th>\n",
       "      <td>1050.000000</td>\n",
       "      <td>1999.000000</td>\n",
       "      <td>69.000000</td>\n",
       "      <td>125000.000000</td>\n",
       "      <td>3.000000</td>\n",
       "      <td>0.0</td>\n",
       "      <td>30165.000000</td>\n",
       "    </tr>\n",
       "    <tr>\n",
       "      <th>50%</th>\n",
       "      <td>2700.000000</td>\n",
       "      <td>2003.000000</td>\n",
       "      <td>105.000000</td>\n",
       "      <td>150000.000000</td>\n",
       "      <td>6.000000</td>\n",
       "      <td>0.0</td>\n",
       "      <td>49413.000000</td>\n",
       "    </tr>\n",
       "    <tr>\n",
       "      <th>75%</th>\n",
       "      <td>6400.000000</td>\n",
       "      <td>2008.000000</td>\n",
       "      <td>143.000000</td>\n",
       "      <td>150000.000000</td>\n",
       "      <td>9.000000</td>\n",
       "      <td>0.0</td>\n",
       "      <td>71083.000000</td>\n",
       "    </tr>\n",
       "    <tr>\n",
       "      <th>max</th>\n",
       "      <td>20000.000000</td>\n",
       "      <td>9999.000000</td>\n",
       "      <td>20000.000000</td>\n",
       "      <td>150000.000000</td>\n",
       "      <td>12.000000</td>\n",
       "      <td>0.0</td>\n",
       "      <td>99998.000000</td>\n",
       "    </tr>\n",
       "  </tbody>\n",
       "</table>\n",
       "</div>"
      ],
      "text/plain": [
       "               Price  RegistrationYear          Power      Kilometer  \\\n",
       "count  354369.000000     354369.000000  354369.000000  354369.000000   \n",
       "mean     4416.656776       2004.234448     110.094337  128211.172535   \n",
       "std      4514.158514         90.227958     189.850405   37905.341530   \n",
       "min         0.000000       1000.000000       0.000000    5000.000000   \n",
       "25%      1050.000000       1999.000000      69.000000  125000.000000   \n",
       "50%      2700.000000       2003.000000     105.000000  150000.000000   \n",
       "75%      6400.000000       2008.000000     143.000000  150000.000000   \n",
       "max     20000.000000       9999.000000   20000.000000  150000.000000   \n",
       "\n",
       "       RegistrationMonth  NumberOfPictures     PostalCode  \n",
       "count      354369.000000          354369.0  354369.000000  \n",
       "mean            5.714645               0.0   50508.689087  \n",
       "std             3.726421               0.0   25783.096248  \n",
       "min             0.000000               0.0    1067.000000  \n",
       "25%             3.000000               0.0   30165.000000  \n",
       "50%             6.000000               0.0   49413.000000  \n",
       "75%             9.000000               0.0   71083.000000  \n",
       "max            12.000000               0.0   99998.000000  "
      ]
     },
     "execution_count": 4,
     "metadata": {},
     "output_type": "execute_result"
    }
   ],
   "source": [
    "data.describe()"
   ]
  },
  {
   "cell_type": "code",
   "execution_count": 5,
   "metadata": {},
   "outputs": [
    {
     "data": {
      "text/html": [
       "<div>\n",
       "<style scoped>\n",
       "    .dataframe tbody tr th:only-of-type {\n",
       "        vertical-align: middle;\n",
       "    }\n",
       "\n",
       "    .dataframe tbody tr th {\n",
       "        vertical-align: top;\n",
       "    }\n",
       "\n",
       "    .dataframe thead th {\n",
       "        text-align: right;\n",
       "    }\n",
       "</style>\n",
       "<table border=\"1\" class=\"dataframe\">\n",
       "  <thead>\n",
       "    <tr style=\"text-align: right;\">\n",
       "      <th></th>\n",
       "      <th>DateCrawled</th>\n",
       "      <th>Price</th>\n",
       "      <th>VehicleType</th>\n",
       "      <th>RegistrationYear</th>\n",
       "      <th>Gearbox</th>\n",
       "      <th>Power</th>\n",
       "      <th>Model</th>\n",
       "      <th>Kilometer</th>\n",
       "      <th>RegistrationMonth</th>\n",
       "      <th>FuelType</th>\n",
       "      <th>Brand</th>\n",
       "      <th>NotRepaired</th>\n",
       "      <th>DateCreated</th>\n",
       "      <th>NumberOfPictures</th>\n",
       "      <th>PostalCode</th>\n",
       "      <th>LastSeen</th>\n",
       "    </tr>\n",
       "  </thead>\n",
       "  <tbody>\n",
       "    <tr>\n",
       "      <th>81525</th>\n",
       "      <td>2016-03-14 18:51:18</td>\n",
       "      <td>5750</td>\n",
       "      <td>suv</td>\n",
       "      <td>2005</td>\n",
       "      <td>manual</td>\n",
       "      <td>126</td>\n",
       "      <td>rav</td>\n",
       "      <td>150000</td>\n",
       "      <td>12</td>\n",
       "      <td>petrol</td>\n",
       "      <td>toyota</td>\n",
       "      <td>no</td>\n",
       "      <td>2016-03-14 00:00:00</td>\n",
       "      <td>0</td>\n",
       "      <td>30890</td>\n",
       "      <td>2016-03-14 18:51:18</td>\n",
       "    </tr>\n",
       "    <tr>\n",
       "      <th>258864</th>\n",
       "      <td>2016-03-17 10:36:18</td>\n",
       "      <td>950</td>\n",
       "      <td>sedan</td>\n",
       "      <td>1998</td>\n",
       "      <td>manual</td>\n",
       "      <td>65</td>\n",
       "      <td>astra</td>\n",
       "      <td>150000</td>\n",
       "      <td>11</td>\n",
       "      <td>petrol</td>\n",
       "      <td>opel</td>\n",
       "      <td>no</td>\n",
       "      <td>2016-03-17 00:00:00</td>\n",
       "      <td>0</td>\n",
       "      <td>13403</td>\n",
       "      <td>2016-03-17 10:36:18</td>\n",
       "    </tr>\n",
       "    <tr>\n",
       "      <th>209259</th>\n",
       "      <td>2016-03-24 09:54:10</td>\n",
       "      <td>1600</td>\n",
       "      <td>wagon</td>\n",
       "      <td>2000</td>\n",
       "      <td>manual</td>\n",
       "      <td>114</td>\n",
       "      <td>almera</td>\n",
       "      <td>80000</td>\n",
       "      <td>10</td>\n",
       "      <td>petrol</td>\n",
       "      <td>nissan</td>\n",
       "      <td>no</td>\n",
       "      <td>2016-03-24 00:00:00</td>\n",
       "      <td>0</td>\n",
       "      <td>82418</td>\n",
       "      <td>2016-03-25 18:48:05</td>\n",
       "    </tr>\n",
       "    <tr>\n",
       "      <th>229910</th>\n",
       "      <td>2016-03-23 19:55:57</td>\n",
       "      <td>999</td>\n",
       "      <td>small</td>\n",
       "      <td>1996</td>\n",
       "      <td>auto</td>\n",
       "      <td>60</td>\n",
       "      <td>fiesta</td>\n",
       "      <td>125000</td>\n",
       "      <td>12</td>\n",
       "      <td>petrol</td>\n",
       "      <td>ford</td>\n",
       "      <td>no</td>\n",
       "      <td>2016-03-23 00:00:00</td>\n",
       "      <td>0</td>\n",
       "      <td>49090</td>\n",
       "      <td>2016-03-23 19:55:57</td>\n",
       "    </tr>\n",
       "    <tr>\n",
       "      <th>238577</th>\n",
       "      <td>2016-03-30 22:54:18</td>\n",
       "      <td>4999</td>\n",
       "      <td>bus</td>\n",
       "      <td>2009</td>\n",
       "      <td>manual</td>\n",
       "      <td>125</td>\n",
       "      <td>altea</td>\n",
       "      <td>150000</td>\n",
       "      <td>8</td>\n",
       "      <td>petrol</td>\n",
       "      <td>seat</td>\n",
       "      <td>no</td>\n",
       "      <td>2016-03-30 00:00:00</td>\n",
       "      <td>0</td>\n",
       "      <td>57250</td>\n",
       "      <td>2016-04-01 21:18:56</td>\n",
       "    </tr>\n",
       "    <tr>\n",
       "      <th>293590</th>\n",
       "      <td>2016-04-04 00:50:46</td>\n",
       "      <td>17900</td>\n",
       "      <td>convertible</td>\n",
       "      <td>1989</td>\n",
       "      <td>manual</td>\n",
       "      <td>0</td>\n",
       "      <td>other</td>\n",
       "      <td>30000</td>\n",
       "      <td>7</td>\n",
       "      <td>petrol</td>\n",
       "      <td>mini</td>\n",
       "      <td>no</td>\n",
       "      <td>2016-04-03 00:00:00</td>\n",
       "      <td>0</td>\n",
       "      <td>46446</td>\n",
       "      <td>2016-04-06 08:16:19</td>\n",
       "    </tr>\n",
       "    <tr>\n",
       "      <th>334020</th>\n",
       "      <td>2016-03-07 22:37:19</td>\n",
       "      <td>5400</td>\n",
       "      <td>bus</td>\n",
       "      <td>2005</td>\n",
       "      <td>manual</td>\n",
       "      <td>150</td>\n",
       "      <td>touran</td>\n",
       "      <td>150000</td>\n",
       "      <td>6</td>\n",
       "      <td>petrol</td>\n",
       "      <td>volkswagen</td>\n",
       "      <td>no</td>\n",
       "      <td>2016-03-07 00:00:00</td>\n",
       "      <td>0</td>\n",
       "      <td>72649</td>\n",
       "      <td>2016-03-22 05:47:40</td>\n",
       "    </tr>\n",
       "    <tr>\n",
       "      <th>285326</th>\n",
       "      <td>2016-03-24 14:51:31</td>\n",
       "      <td>399</td>\n",
       "      <td>sedan</td>\n",
       "      <td>1997</td>\n",
       "      <td>manual</td>\n",
       "      <td>44</td>\n",
       "      <td>golf</td>\n",
       "      <td>150000</td>\n",
       "      <td>9</td>\n",
       "      <td>petrol</td>\n",
       "      <td>volkswagen</td>\n",
       "      <td>no</td>\n",
       "      <td>2016-03-24 00:00:00</td>\n",
       "      <td>0</td>\n",
       "      <td>4288</td>\n",
       "      <td>2016-03-30 16:45:50</td>\n",
       "    </tr>\n",
       "    <tr>\n",
       "      <th>218362</th>\n",
       "      <td>2016-03-26 22:48:36</td>\n",
       "      <td>1500</td>\n",
       "      <td>NaN</td>\n",
       "      <td>2017</td>\n",
       "      <td>manual</td>\n",
       "      <td>128</td>\n",
       "      <td>other</td>\n",
       "      <td>150000</td>\n",
       "      <td>12</td>\n",
       "      <td>NaN</td>\n",
       "      <td>citroen</td>\n",
       "      <td>NaN</td>\n",
       "      <td>2016-03-26 00:00:00</td>\n",
       "      <td>0</td>\n",
       "      <td>33790</td>\n",
       "      <td>2016-03-27 00:43:28</td>\n",
       "    </tr>\n",
       "    <tr>\n",
       "      <th>53328</th>\n",
       "      <td>2016-04-02 22:57:31</td>\n",
       "      <td>9999</td>\n",
       "      <td>small</td>\n",
       "      <td>2009</td>\n",
       "      <td>manual</td>\n",
       "      <td>174</td>\n",
       "      <td>cooper</td>\n",
       "      <td>125000</td>\n",
       "      <td>1</td>\n",
       "      <td>petrol</td>\n",
       "      <td>mini</td>\n",
       "      <td>no</td>\n",
       "      <td>2016-04-02 00:00:00</td>\n",
       "      <td>0</td>\n",
       "      <td>63303</td>\n",
       "      <td>2016-04-06 14:44:56</td>\n",
       "    </tr>\n",
       "    <tr>\n",
       "      <th>45970</th>\n",
       "      <td>2016-03-30 21:37:38</td>\n",
       "      <td>400</td>\n",
       "      <td>small</td>\n",
       "      <td>2000</td>\n",
       "      <td>manual</td>\n",
       "      <td>75</td>\n",
       "      <td>a_klasse</td>\n",
       "      <td>70000</td>\n",
       "      <td>0</td>\n",
       "      <td>petrol</td>\n",
       "      <td>mercedes_benz</td>\n",
       "      <td>NaN</td>\n",
       "      <td>2016-03-30 00:00:00</td>\n",
       "      <td>0</td>\n",
       "      <td>53909</td>\n",
       "      <td>2016-04-05 11:45:19</td>\n",
       "    </tr>\n",
       "    <tr>\n",
       "      <th>327406</th>\n",
       "      <td>2016-04-05 13:25:38</td>\n",
       "      <td>0</td>\n",
       "      <td>wagon</td>\n",
       "      <td>2000</td>\n",
       "      <td>NaN</td>\n",
       "      <td>0</td>\n",
       "      <td>vectra</td>\n",
       "      <td>150000</td>\n",
       "      <td>0</td>\n",
       "      <td>NaN</td>\n",
       "      <td>opel</td>\n",
       "      <td>NaN</td>\n",
       "      <td>2016-04-05 00:00:00</td>\n",
       "      <td>0</td>\n",
       "      <td>65187</td>\n",
       "      <td>2016-04-05 13:25:38</td>\n",
       "    </tr>\n",
       "    <tr>\n",
       "      <th>82189</th>\n",
       "      <td>2016-03-31 18:49:15</td>\n",
       "      <td>500</td>\n",
       "      <td>small</td>\n",
       "      <td>2003</td>\n",
       "      <td>manual</td>\n",
       "      <td>0</td>\n",
       "      <td>ka</td>\n",
       "      <td>150000</td>\n",
       "      <td>3</td>\n",
       "      <td>petrol</td>\n",
       "      <td>ford</td>\n",
       "      <td>no</td>\n",
       "      <td>2016-03-31 00:00:00</td>\n",
       "      <td>0</td>\n",
       "      <td>40210</td>\n",
       "      <td>2016-03-31 18:49:15</td>\n",
       "    </tr>\n",
       "    <tr>\n",
       "      <th>140592</th>\n",
       "      <td>2016-03-15 21:51:36</td>\n",
       "      <td>5150</td>\n",
       "      <td>sedan</td>\n",
       "      <td>2006</td>\n",
       "      <td>manual</td>\n",
       "      <td>80</td>\n",
       "      <td>focus</td>\n",
       "      <td>90000</td>\n",
       "      <td>12</td>\n",
       "      <td>petrol</td>\n",
       "      <td>ford</td>\n",
       "      <td>no</td>\n",
       "      <td>2016-03-15 00:00:00</td>\n",
       "      <td>0</td>\n",
       "      <td>47179</td>\n",
       "      <td>2016-04-07 06:16:11</td>\n",
       "    </tr>\n",
       "    <tr>\n",
       "      <th>24002</th>\n",
       "      <td>2016-03-10 22:42:46</td>\n",
       "      <td>4300</td>\n",
       "      <td>small</td>\n",
       "      <td>2010</td>\n",
       "      <td>manual</td>\n",
       "      <td>68</td>\n",
       "      <td>aygo</td>\n",
       "      <td>90000</td>\n",
       "      <td>12</td>\n",
       "      <td>petrol</td>\n",
       "      <td>toyota</td>\n",
       "      <td>no</td>\n",
       "      <td>2016-03-10 00:00:00</td>\n",
       "      <td>0</td>\n",
       "      <td>58099</td>\n",
       "      <td>2016-04-07 00:44:30</td>\n",
       "    </tr>\n",
       "    <tr>\n",
       "      <th>194355</th>\n",
       "      <td>2016-04-03 22:58:40</td>\n",
       "      <td>4999</td>\n",
       "      <td>small</td>\n",
       "      <td>2009</td>\n",
       "      <td>manual</td>\n",
       "      <td>75</td>\n",
       "      <td>clio</td>\n",
       "      <td>70000</td>\n",
       "      <td>4</td>\n",
       "      <td>petrol</td>\n",
       "      <td>renault</td>\n",
       "      <td>no</td>\n",
       "      <td>2016-04-03 00:00:00</td>\n",
       "      <td>0</td>\n",
       "      <td>6667</td>\n",
       "      <td>2016-04-06 02:44:46</td>\n",
       "    </tr>\n",
       "    <tr>\n",
       "      <th>244365</th>\n",
       "      <td>2016-03-30 16:52:15</td>\n",
       "      <td>1750</td>\n",
       "      <td>small</td>\n",
       "      <td>2001</td>\n",
       "      <td>NaN</td>\n",
       "      <td>60</td>\n",
       "      <td>polo</td>\n",
       "      <td>150000</td>\n",
       "      <td>9</td>\n",
       "      <td>petrol</td>\n",
       "      <td>volkswagen</td>\n",
       "      <td>NaN</td>\n",
       "      <td>2016-03-30 00:00:00</td>\n",
       "      <td>0</td>\n",
       "      <td>48249</td>\n",
       "      <td>2016-03-30 16:52:15</td>\n",
       "    </tr>\n",
       "    <tr>\n",
       "      <th>149495</th>\n",
       "      <td>2016-04-01 20:41:16</td>\n",
       "      <td>5800</td>\n",
       "      <td>small</td>\n",
       "      <td>2009</td>\n",
       "      <td>manual</td>\n",
       "      <td>82</td>\n",
       "      <td>fiesta</td>\n",
       "      <td>100000</td>\n",
       "      <td>5</td>\n",
       "      <td>petrol</td>\n",
       "      <td>ford</td>\n",
       "      <td>NaN</td>\n",
       "      <td>2016-04-01 00:00:00</td>\n",
       "      <td>0</td>\n",
       "      <td>67368</td>\n",
       "      <td>2016-04-05 17:27:03</td>\n",
       "    </tr>\n",
       "    <tr>\n",
       "      <th>223410</th>\n",
       "      <td>2016-03-05 14:20:20</td>\n",
       "      <td>7299</td>\n",
       "      <td>sedan</td>\n",
       "      <td>2005</td>\n",
       "      <td>manual</td>\n",
       "      <td>218</td>\n",
       "      <td>3er</td>\n",
       "      <td>150000</td>\n",
       "      <td>4</td>\n",
       "      <td>petrol</td>\n",
       "      <td>bmw</td>\n",
       "      <td>no</td>\n",
       "      <td>2016-03-04 00:00:00</td>\n",
       "      <td>0</td>\n",
       "      <td>51570</td>\n",
       "      <td>2016-03-28 01:18:27</td>\n",
       "    </tr>\n",
       "    <tr>\n",
       "      <th>114464</th>\n",
       "      <td>2016-03-14 08:52:34</td>\n",
       "      <td>8550</td>\n",
       "      <td>small</td>\n",
       "      <td>2010</td>\n",
       "      <td>manual</td>\n",
       "      <td>122</td>\n",
       "      <td>cooper</td>\n",
       "      <td>125000</td>\n",
       "      <td>6</td>\n",
       "      <td>petrol</td>\n",
       "      <td>mini</td>\n",
       "      <td>no</td>\n",
       "      <td>2016-03-14 00:00:00</td>\n",
       "      <td>0</td>\n",
       "      <td>92286</td>\n",
       "      <td>2016-03-27 11:46:55</td>\n",
       "    </tr>\n",
       "  </tbody>\n",
       "</table>\n",
       "</div>"
      ],
      "text/plain": [
       "                DateCrawled  Price  VehicleType  RegistrationYear Gearbox  \\\n",
       "81525   2016-03-14 18:51:18   5750          suv              2005  manual   \n",
       "258864  2016-03-17 10:36:18    950        sedan              1998  manual   \n",
       "209259  2016-03-24 09:54:10   1600        wagon              2000  manual   \n",
       "229910  2016-03-23 19:55:57    999        small              1996    auto   \n",
       "238577  2016-03-30 22:54:18   4999          bus              2009  manual   \n",
       "293590  2016-04-04 00:50:46  17900  convertible              1989  manual   \n",
       "334020  2016-03-07 22:37:19   5400          bus              2005  manual   \n",
       "285326  2016-03-24 14:51:31    399        sedan              1997  manual   \n",
       "218362  2016-03-26 22:48:36   1500          NaN              2017  manual   \n",
       "53328   2016-04-02 22:57:31   9999        small              2009  manual   \n",
       "45970   2016-03-30 21:37:38    400        small              2000  manual   \n",
       "327406  2016-04-05 13:25:38      0        wagon              2000     NaN   \n",
       "82189   2016-03-31 18:49:15    500        small              2003  manual   \n",
       "140592  2016-03-15 21:51:36   5150        sedan              2006  manual   \n",
       "24002   2016-03-10 22:42:46   4300        small              2010  manual   \n",
       "194355  2016-04-03 22:58:40   4999        small              2009  manual   \n",
       "244365  2016-03-30 16:52:15   1750        small              2001     NaN   \n",
       "149495  2016-04-01 20:41:16   5800        small              2009  manual   \n",
       "223410  2016-03-05 14:20:20   7299        sedan              2005  manual   \n",
       "114464  2016-03-14 08:52:34   8550        small              2010  manual   \n",
       "\n",
       "        Power     Model  Kilometer  RegistrationMonth FuelType          Brand  \\\n",
       "81525     126       rav     150000                 12   petrol         toyota   \n",
       "258864     65     astra     150000                 11   petrol           opel   \n",
       "209259    114    almera      80000                 10   petrol         nissan   \n",
       "229910     60    fiesta     125000                 12   petrol           ford   \n",
       "238577    125     altea     150000                  8   petrol           seat   \n",
       "293590      0     other      30000                  7   petrol           mini   \n",
       "334020    150    touran     150000                  6   petrol     volkswagen   \n",
       "285326     44      golf     150000                  9   petrol     volkswagen   \n",
       "218362    128     other     150000                 12      NaN        citroen   \n",
       "53328     174    cooper     125000                  1   petrol           mini   \n",
       "45970      75  a_klasse      70000                  0   petrol  mercedes_benz   \n",
       "327406      0    vectra     150000                  0      NaN           opel   \n",
       "82189       0        ka     150000                  3   petrol           ford   \n",
       "140592     80     focus      90000                 12   petrol           ford   \n",
       "24002      68      aygo      90000                 12   petrol         toyota   \n",
       "194355     75      clio      70000                  4   petrol        renault   \n",
       "244365     60      polo     150000                  9   petrol     volkswagen   \n",
       "149495     82    fiesta     100000                  5   petrol           ford   \n",
       "223410    218       3er     150000                  4   petrol            bmw   \n",
       "114464    122    cooper     125000                  6   petrol           mini   \n",
       "\n",
       "       NotRepaired          DateCreated  NumberOfPictures  PostalCode  \\\n",
       "81525           no  2016-03-14 00:00:00                 0       30890   \n",
       "258864          no  2016-03-17 00:00:00                 0       13403   \n",
       "209259          no  2016-03-24 00:00:00                 0       82418   \n",
       "229910          no  2016-03-23 00:00:00                 0       49090   \n",
       "238577          no  2016-03-30 00:00:00                 0       57250   \n",
       "293590          no  2016-04-03 00:00:00                 0       46446   \n",
       "334020          no  2016-03-07 00:00:00                 0       72649   \n",
       "285326          no  2016-03-24 00:00:00                 0        4288   \n",
       "218362         NaN  2016-03-26 00:00:00                 0       33790   \n",
       "53328           no  2016-04-02 00:00:00                 0       63303   \n",
       "45970          NaN  2016-03-30 00:00:00                 0       53909   \n",
       "327406         NaN  2016-04-05 00:00:00                 0       65187   \n",
       "82189           no  2016-03-31 00:00:00                 0       40210   \n",
       "140592          no  2016-03-15 00:00:00                 0       47179   \n",
       "24002           no  2016-03-10 00:00:00                 0       58099   \n",
       "194355          no  2016-04-03 00:00:00                 0        6667   \n",
       "244365         NaN  2016-03-30 00:00:00                 0       48249   \n",
       "149495         NaN  2016-04-01 00:00:00                 0       67368   \n",
       "223410          no  2016-03-04 00:00:00                 0       51570   \n",
       "114464          no  2016-03-14 00:00:00                 0       92286   \n",
       "\n",
       "                   LastSeen  \n",
       "81525   2016-03-14 18:51:18  \n",
       "258864  2016-03-17 10:36:18  \n",
       "209259  2016-03-25 18:48:05  \n",
       "229910  2016-03-23 19:55:57  \n",
       "238577  2016-04-01 21:18:56  \n",
       "293590  2016-04-06 08:16:19  \n",
       "334020  2016-03-22 05:47:40  \n",
       "285326  2016-03-30 16:45:50  \n",
       "218362  2016-03-27 00:43:28  \n",
       "53328   2016-04-06 14:44:56  \n",
       "45970   2016-04-05 11:45:19  \n",
       "327406  2016-04-05 13:25:38  \n",
       "82189   2016-03-31 18:49:15  \n",
       "140592  2016-04-07 06:16:11  \n",
       "24002   2016-04-07 00:44:30  \n",
       "194355  2016-04-06 02:44:46  \n",
       "244365  2016-03-30 16:52:15  \n",
       "149495  2016-04-05 17:27:03  \n",
       "223410  2016-03-28 01:18:27  \n",
       "114464  2016-03-27 11:46:55  "
      ]
     },
     "execution_count": 5,
     "metadata": {},
     "output_type": "execute_result"
    }
   ],
   "source": [
    "data.sample(20)"
   ]
  },
  {
   "cell_type": "markdown",
   "metadata": {},
   "source": [
    "На первый взгляд мы можем увидеть что у нас 354369 записи, с пропусками в некоторых столбцах, а так же 0 в столбцах Price, Power, RegistrationMonth и RegistrationYear со значением 1000."
   ]
  },
  {
   "cell_type": "markdown",
   "metadata": {},
   "source": [
    "## Обработка данных"
   ]
  },
  {
   "cell_type": "markdown",
   "metadata": {},
   "source": [
    "Проверим данные на полные дубликаты."
   ]
  },
  {
   "cell_type": "code",
   "execution_count": 6,
   "metadata": {},
   "outputs": [
    {
     "data": {
      "text/plain": [
       "4"
      ]
     },
     "execution_count": 6,
     "metadata": {},
     "output_type": "execute_result"
    }
   ],
   "source": [
    "data.duplicated().sum()"
   ]
  },
  {
   "cell_type": "markdown",
   "metadata": {},
   "source": [
    "У нас в данных обнаружилось 4 полных дубликата - удалим их."
   ]
  },
  {
   "cell_type": "code",
   "execution_count": 7,
   "metadata": {},
   "outputs": [
    {
     "name": "stdout",
     "output_type": "stream",
     "text": [
      "<class 'pandas.core.frame.DataFrame'>\n",
      "Int64Index: 354365 entries, 0 to 354368\n",
      "Data columns (total 16 columns):\n",
      " #   Column             Non-Null Count   Dtype \n",
      "---  ------             --------------   ----- \n",
      " 0   DateCrawled        354365 non-null  object\n",
      " 1   Price              354365 non-null  int64 \n",
      " 2   VehicleType        316875 non-null  object\n",
      " 3   RegistrationYear   354365 non-null  int64 \n",
      " 4   Gearbox            334532 non-null  object\n",
      " 5   Power              354365 non-null  int64 \n",
      " 6   Model              334660 non-null  object\n",
      " 7   Kilometer          354365 non-null  int64 \n",
      " 8   RegistrationMonth  354365 non-null  int64 \n",
      " 9   FuelType           321470 non-null  object\n",
      " 10  Brand              354365 non-null  object\n",
      " 11  NotRepaired        283211 non-null  object\n",
      " 12  DateCreated        354365 non-null  object\n",
      " 13  NumberOfPictures   354365 non-null  int64 \n",
      " 14  PostalCode         354365 non-null  int64 \n",
      " 15  LastSeen           354365 non-null  object\n",
      "dtypes: int64(7), object(9)\n",
      "memory usage: 46.0+ MB\n"
     ]
    }
   ],
   "source": [
    "data.drop_duplicates(inplace=True)\n",
    "data.info()"
   ]
  },
  {
   "cell_type": "markdown",
   "metadata": {},
   "source": [
    "Сразу очистим данные от не нужных нам признаков, таких как DateCrawled, DateCreated, PostalCode, LastSeen и NumberOfPictures, так как в нём везде 0 - они не несут полезности для обучения модели и никак не влияют на расчёт стоимости автомобиля."
   ]
  },
  {
   "cell_type": "code",
   "execution_count": 8,
   "metadata": {},
   "outputs": [
    {
     "name": "stdout",
     "output_type": "stream",
     "text": [
      "<class 'pandas.core.frame.DataFrame'>\n",
      "Int64Index: 354365 entries, 0 to 354368\n",
      "Data columns (total 11 columns):\n",
      " #   Column             Non-Null Count   Dtype \n",
      "---  ------             --------------   ----- \n",
      " 0   Price              354365 non-null  int64 \n",
      " 1   VehicleType        316875 non-null  object\n",
      " 2   RegistrationYear   354365 non-null  int64 \n",
      " 3   Gearbox            334532 non-null  object\n",
      " 4   Power              354365 non-null  int64 \n",
      " 5   Model              334660 non-null  object\n",
      " 6   Kilometer          354365 non-null  int64 \n",
      " 7   RegistrationMonth  354365 non-null  int64 \n",
      " 8   FuelType           321470 non-null  object\n",
      " 9   Brand              354365 non-null  object\n",
      " 10  NotRepaired        283211 non-null  object\n",
      "dtypes: int64(5), object(6)\n",
      "memory usage: 32.4+ MB\n"
     ]
    }
   ],
   "source": [
    "data = data.drop(['DateCrawled', 'DateCreated', 'PostalCode', 'LastSeen', 'NumberOfPictures'], axis=1)\n",
    "data.info()"
   ]
  },
  {
   "cell_type": "markdown",
   "metadata": {},
   "source": [
    "#### Заполняем пропуски в данных."
   ]
  },
  {
   "cell_type": "markdown",
   "metadata": {},
   "source": [
    "Для заполнения Model, VehicleType, FuelType и Gearbox сделаем функцию, которая на вход будет принимать набор параметров для группировки и целевой параметр для заполнения. В случае отсутсвия подходящего значения будем ставить категорию UNK(unknown). Ведь за один год компании выпускают определенный модельный ряд, который изменяется раз в несколько лет. А узнав модель и год выпуска, мы можем подставить отсальные параметры."
   ]
  },
  {
   "cell_type": "code",
   "execution_count": 9,
   "metadata": {},
   "outputs": [],
   "source": [
    "def filler(row, features, target_feature, mapper):\n",
    "    if (type(row[target_feature])) != str:\n",
    "        return mapper.get(tuple(row[features]), \"UNK\")\n",
    "    return row[target_feature]\n",
    "\n",
    "def fill_na_by_params_group(dataset, features, target_feature):\n",
    "    mapper = dataset.groupby(by=features)[target_feature].apply(lambda x: x.mode()).to_dict()\n",
    "    mapper = {(key[:-1]): value for key, value in mapper.items()}\n",
    "    \n",
    "    dataset[target_feature] = dataset.apply(lambda row: filler(row, features, target_feature, mapper), axis=1)\n",
    "    return dataset\n"
   ]
  },
  {
   "cell_type": "code",
   "execution_count": 10,
   "metadata": {},
   "outputs": [
    {
     "data": {
      "text/plain": [
       "(0, 11)"
      ]
     },
     "execution_count": 10,
     "metadata": {},
     "output_type": "execute_result"
    }
   ],
   "source": [
    "data = fill_na_by_params_group(data, ['Brand', 'RegistrationYear', 'RegistrationMonth'], 'Model')\n",
    "data[data['VehicleType'] == 'UNK'].shape"
   ]
  },
  {
   "cell_type": "code",
   "execution_count": 11,
   "metadata": {},
   "outputs": [
    {
     "data": {
      "text/plain": [
       "(22927, 11)"
      ]
     },
     "execution_count": 11,
     "metadata": {},
     "output_type": "execute_result"
    }
   ],
   "source": [
    "data = fill_na_by_params_group(data, ['Brand', 'Model', 'RegistrationYear', 'RegistrationMonth'], 'VehicleType')\n",
    "data[data['VehicleType'] == 'UNK'].shape"
   ]
  },
  {
   "cell_type": "code",
   "execution_count": 12,
   "metadata": {},
   "outputs": [
    {
     "data": {
      "text/plain": [
       "(4122, 11)"
      ]
     },
     "execution_count": 12,
     "metadata": {},
     "output_type": "execute_result"
    }
   ],
   "source": [
    "data = fill_na_by_params_group(data, ['Brand', 'Model', 'RegistrationYear', 'RegistrationMonth', 'VehicleType'], 'FuelType')\n",
    "data[data['FuelType'] == 'UNK'].shape"
   ]
  },
  {
   "cell_type": "code",
   "execution_count": 13,
   "metadata": {},
   "outputs": [
    {
     "data": {
      "text/plain": [
       "(3093, 11)"
      ]
     },
     "execution_count": 13,
     "metadata": {},
     "output_type": "execute_result"
    }
   ],
   "source": [
    "data = fill_na_by_params_group(data, ['Brand', 'Model', 'RegistrationYear', 'RegistrationMonth', 'VehicleType', 'FuelType'], 'Gearbox')\n",
    "data[data['Gearbox'] == 'UNK'].shape"
   ]
  },
  {
   "cell_type": "code",
   "execution_count": 14,
   "metadata": {},
   "outputs": [
    {
     "name": "stdout",
     "output_type": "stream",
     "text": [
      "<class 'pandas.core.frame.DataFrame'>\n",
      "Int64Index: 354365 entries, 0 to 354368\n",
      "Data columns (total 11 columns):\n",
      " #   Column             Non-Null Count   Dtype \n",
      "---  ------             --------------   ----- \n",
      " 0   Price              354365 non-null  int64 \n",
      " 1   VehicleType        354365 non-null  object\n",
      " 2   RegistrationYear   354365 non-null  int64 \n",
      " 3   Gearbox            354365 non-null  object\n",
      " 4   Power              354365 non-null  int64 \n",
      " 5   Model              354365 non-null  object\n",
      " 6   Kilometer          354365 non-null  int64 \n",
      " 7   RegistrationMonth  354365 non-null  int64 \n",
      " 8   FuelType           354365 non-null  object\n",
      " 9   Brand              354365 non-null  object\n",
      " 10  NotRepaired        283211 non-null  object\n",
      "dtypes: int64(5), object(6)\n",
      "memory usage: 32.4+ MB\n"
     ]
    }
   ],
   "source": [
    "data.info()"
   ]
  },
  {
   "cell_type": "markdown",
   "metadata": {},
   "source": [
    "С помощью функции заполнения нам удолось избавиться от пропусков, полностью заполнив столбец Model, а в остальных мы смогли заполнить 80% пропусков данными, за исключением VehicleType."
   ]
  },
  {
   "cell_type": "markdown",
   "metadata": {},
   "source": [
    "Поле NotRepaired мы не можем заполнить по принципу ранее, ведь всё зависит от случая, бывает что новая машина ездит на ремонт каждый месяц, а может ездить несколько лет, меняя расходники, поэтому пропуски в этом поле мы заполним значением \"UNK\""
   ]
  },
  {
   "cell_type": "code",
   "execution_count": 15,
   "metadata": {},
   "outputs": [
    {
     "name": "stdout",
     "output_type": "stream",
     "text": [
      "<class 'pandas.core.frame.DataFrame'>\n",
      "Int64Index: 354365 entries, 0 to 354368\n",
      "Data columns (total 11 columns):\n",
      " #   Column             Non-Null Count   Dtype \n",
      "---  ------             --------------   ----- \n",
      " 0   Price              354365 non-null  int64 \n",
      " 1   VehicleType        354365 non-null  object\n",
      " 2   RegistrationYear   354365 non-null  int64 \n",
      " 3   Gearbox            354365 non-null  object\n",
      " 4   Power              354365 non-null  int64 \n",
      " 5   Model              354365 non-null  object\n",
      " 6   Kilometer          354365 non-null  int64 \n",
      " 7   RegistrationMonth  354365 non-null  int64 \n",
      " 8   FuelType           354365 non-null  object\n",
      " 9   Brand              354365 non-null  object\n",
      " 10  NotRepaired        354365 non-null  object\n",
      "dtypes: int64(5), object(6)\n",
      "memory usage: 32.4+ MB\n"
     ]
    }
   ],
   "source": [
    "data['NotRepaired'].fillna('UNK', inplace=True)\n",
    "data.info()"
   ]
  },
  {
   "cell_type": "markdown",
   "metadata": {},
   "source": [
    "## Анализ данных"
   ]
  },
  {
   "cell_type": "markdown",
   "metadata": {},
   "source": [
    "Постороим pairplot, чтобы посмотреть нет ли у нас корреляции между данными и заодно посмотрим на все распределения."
   ]
  },
  {
   "cell_type": "code",
   "execution_count": 16,
   "metadata": {},
   "outputs": [
    {
     "data": {
      "image/png": "[encoded data removed]",
      "text/plain": [
       "<Figure size 900x900 with 30 Axes>"
      ]
     },
     "metadata": {
      "needs_background": "light"
     },
     "output_type": "display_data"
    }
   ],
   "source": [
    "sns.pairplot(data);"
   ]
  },
  {
   "cell_type": "markdown",
   "metadata": {},
   "source": [
    "pairplot показал нам, что в датасете между данными нет мультиколлинеарности, а так же дал понять, что нам стоит поближе посмотреть на распределения."
   ]
  },
  {
   "cell_type": "markdown",
   "metadata": {},
   "source": [
    "Посмотрим на распределение цены автомобилей."
   ]
  },
  {
   "cell_type": "code",
   "execution_count": 17,
   "metadata": {},
   "outputs": [
    {
     "data": {
      "image/png": "[encoded data removed]",
      "text/plain": [
       "<Figure size 1800x720 with 1 Axes>"
      ]
     },
     "metadata": {
      "needs_background": "light"
     },
     "output_type": "display_data"
    }
   ],
   "source": [
    "plt.figure(figsize=(25,10))\n",
    "ax = data['Price'].hist(bins=50)\n",
    "ax.set_title('Распределение цены')\n",
    "ax.set_xlabel('Цена')\n",
    "ax.set_ylabel('Количество')\n",
    "plt.show()"
   ]
  },
  {
   "cell_type": "markdown",
   "metadata": {},
   "source": [
    "На гистограмме мы можем увидеть большую концетрацию значений возле 0, посмотрим сколько их и что это за автомобили."
   ]
  },
  {
   "cell_type": "code",
   "execution_count": 18,
   "metadata": {},
   "outputs": [
    {
     "data": {
      "text/html": [
       "<div>\n",
       "<style scoped>\n",
       "    .dataframe tbody tr th:only-of-type {\n",
       "        vertical-align: middle;\n",
       "    }\n",
       "\n",
       "    .dataframe tbody tr th {\n",
       "        vertical-align: top;\n",
       "    }\n",
       "\n",
       "    .dataframe thead th {\n",
       "        text-align: right;\n",
       "    }\n",
       "</style>\n",
       "<table border=\"1\" class=\"dataframe\">\n",
       "  <thead>\n",
       "    <tr style=\"text-align: right;\">\n",
       "      <th></th>\n",
       "      <th>Price</th>\n",
       "      <th>VehicleType</th>\n",
       "      <th>RegistrationYear</th>\n",
       "      <th>Gearbox</th>\n",
       "      <th>Power</th>\n",
       "      <th>Model</th>\n",
       "      <th>Kilometer</th>\n",
       "      <th>RegistrationMonth</th>\n",
       "      <th>FuelType</th>\n",
       "      <th>Brand</th>\n",
       "      <th>NotRepaired</th>\n",
       "    </tr>\n",
       "  </thead>\n",
       "  <tbody>\n",
       "    <tr>\n",
       "      <th>83390</th>\n",
       "      <td>0</td>\n",
       "      <td>sedan</td>\n",
       "      <td>1995</td>\n",
       "      <td>manual</td>\n",
       "      <td>0</td>\n",
       "      <td>3er</td>\n",
       "      <td>5000</td>\n",
       "      <td>0</td>\n",
       "      <td>petrol</td>\n",
       "      <td>bmw</td>\n",
       "      <td>UNK</td>\n",
       "    </tr>\n",
       "    <tr>\n",
       "      <th>108535</th>\n",
       "      <td>0</td>\n",
       "      <td>UNK</td>\n",
       "      <td>2016</td>\n",
       "      <td>manual</td>\n",
       "      <td>0</td>\n",
       "      <td>golf</td>\n",
       "      <td>150000</td>\n",
       "      <td>7</td>\n",
       "      <td>gasoline</td>\n",
       "      <td>volkswagen</td>\n",
       "      <td>no</td>\n",
       "    </tr>\n",
       "    <tr>\n",
       "      <th>96976</th>\n",
       "      <td>0</td>\n",
       "      <td>sedan</td>\n",
       "      <td>2003</td>\n",
       "      <td>manual</td>\n",
       "      <td>125</td>\n",
       "      <td>vectra</td>\n",
       "      <td>150000</td>\n",
       "      <td>11</td>\n",
       "      <td>gasoline</td>\n",
       "      <td>opel</td>\n",
       "      <td>UNK</td>\n",
       "    </tr>\n",
       "    <tr>\n",
       "      <th>173232</th>\n",
       "      <td>0</td>\n",
       "      <td>wagon</td>\n",
       "      <td>2011</td>\n",
       "      <td>manual</td>\n",
       "      <td>140</td>\n",
       "      <td>golf</td>\n",
       "      <td>150000</td>\n",
       "      <td>4</td>\n",
       "      <td>gasoline</td>\n",
       "      <td>volkswagen</td>\n",
       "      <td>no</td>\n",
       "    </tr>\n",
       "    <tr>\n",
       "      <th>197253</th>\n",
       "      <td>0</td>\n",
       "      <td>UNK</td>\n",
       "      <td>2016</td>\n",
       "      <td>manual</td>\n",
       "      <td>0</td>\n",
       "      <td>golf</td>\n",
       "      <td>150000</td>\n",
       "      <td>7</td>\n",
       "      <td>petrol</td>\n",
       "      <td>volkswagen</td>\n",
       "      <td>UNK</td>\n",
       "    </tr>\n",
       "    <tr>\n",
       "      <th>207952</th>\n",
       "      <td>0</td>\n",
       "      <td>small</td>\n",
       "      <td>1999</td>\n",
       "      <td>manual</td>\n",
       "      <td>82</td>\n",
       "      <td>a_klasse</td>\n",
       "      <td>150000</td>\n",
       "      <td>8</td>\n",
       "      <td>petrol</td>\n",
       "      <td>mercedes_benz</td>\n",
       "      <td>no</td>\n",
       "    </tr>\n",
       "    <tr>\n",
       "      <th>184287</th>\n",
       "      <td>0</td>\n",
       "      <td>small</td>\n",
       "      <td>2000</td>\n",
       "      <td>manual</td>\n",
       "      <td>0</td>\n",
       "      <td>golf</td>\n",
       "      <td>150000</td>\n",
       "      <td>0</td>\n",
       "      <td>petrol</td>\n",
       "      <td>volkswagen</td>\n",
       "      <td>UNK</td>\n",
       "    </tr>\n",
       "    <tr>\n",
       "      <th>67007</th>\n",
       "      <td>0</td>\n",
       "      <td>sedan</td>\n",
       "      <td>2000</td>\n",
       "      <td>auto</td>\n",
       "      <td>193</td>\n",
       "      <td>5er</td>\n",
       "      <td>150000</td>\n",
       "      <td>5</td>\n",
       "      <td>petrol</td>\n",
       "      <td>bmw</td>\n",
       "      <td>UNK</td>\n",
       "    </tr>\n",
       "    <tr>\n",
       "      <th>307654</th>\n",
       "      <td>0</td>\n",
       "      <td>wagon</td>\n",
       "      <td>1997</td>\n",
       "      <td>manual</td>\n",
       "      <td>0</td>\n",
       "      <td>other</td>\n",
       "      <td>150000</td>\n",
       "      <td>0</td>\n",
       "      <td>UNK</td>\n",
       "      <td>volvo</td>\n",
       "      <td>UNK</td>\n",
       "    </tr>\n",
       "    <tr>\n",
       "      <th>349129</th>\n",
       "      <td>0</td>\n",
       "      <td>UNK</td>\n",
       "      <td>2014</td>\n",
       "      <td>auto</td>\n",
       "      <td>0</td>\n",
       "      <td>1er</td>\n",
       "      <td>50000</td>\n",
       "      <td>1</td>\n",
       "      <td>UNK</td>\n",
       "      <td>bmw</td>\n",
       "      <td>UNK</td>\n",
       "    </tr>\n",
       "  </tbody>\n",
       "</table>\n",
       "</div>"
      ],
      "text/plain": [
       "        Price VehicleType  RegistrationYear Gearbox  Power     Model  \\\n",
       "83390       0       sedan              1995  manual      0       3er   \n",
       "108535      0         UNK              2016  manual      0      golf   \n",
       "96976       0       sedan              2003  manual    125    vectra   \n",
       "173232      0       wagon              2011  manual    140      golf   \n",
       "197253      0         UNK              2016  manual      0      golf   \n",
       "207952      0       small              1999  manual     82  a_klasse   \n",
       "184287      0       small              2000  manual      0      golf   \n",
       "67007       0       sedan              2000    auto    193       5er   \n",
       "307654      0       wagon              1997  manual      0     other   \n",
       "349129      0         UNK              2014    auto      0       1er   \n",
       "\n",
       "        Kilometer  RegistrationMonth  FuelType          Brand NotRepaired  \n",
       "83390        5000                  0    petrol            bmw         UNK  \n",
       "108535     150000                  7  gasoline     volkswagen          no  \n",
       "96976      150000                 11  gasoline           opel         UNK  \n",
       "173232     150000                  4  gasoline     volkswagen          no  \n",
       "197253     150000                  7    petrol     volkswagen         UNK  \n",
       "207952     150000                  8    petrol  mercedes_benz          no  \n",
       "184287     150000                  0    petrol     volkswagen         UNK  \n",
       "67007      150000                  5    petrol            bmw         UNK  \n",
       "307654     150000                  0       UNK          volvo         UNK  \n",
       "349129      50000                  1       UNK            bmw         UNK  "
      ]
     },
     "metadata": {},
     "output_type": "display_data"
    },
    {
     "name": "stdout",
     "output_type": "stream",
     "text": [
      "10772\n"
     ]
    }
   ],
   "source": [
    "data_zero_price = data[data['Price'] == 0]\n",
    "display(data_zero_price.sample(10))\n",
    "print(data_zero_price.shape[0])"
   ]
  },
  {
   "cell_type": "markdown",
   "metadata": {},
   "source": [
    "Так как это целевой признак и таких данных около 3% от общего датасета - подходящим решением будет удалить эти данные, ведь мы не знаем причину нулевой цены, это может быть как ошибка выгрузки, а так же кто-то мог отдать машину за бесплатно."
   ]
  },
  {
   "cell_type": "code",
   "execution_count": 19,
   "metadata": {},
   "outputs": [
    {
     "data": {
      "text/plain": [
       "343593"
      ]
     },
     "execution_count": 19,
     "metadata": {},
     "output_type": "execute_result"
    }
   ],
   "source": [
    "data = data[data['Price'] > 0]\n",
    "data.shape[0]"
   ]
  },
  {
   "cell_type": "markdown",
   "metadata": {},
   "source": [
    "Рассмотрим распределение по мощности автомобилей."
   ]
  },
  {
   "cell_type": "code",
   "execution_count": 20,
   "metadata": {},
   "outputs": [
    {
     "data": {
      "image/png": "[encoded data removed]",
      "text/plain": [
       "<Figure size 1800x720 with 1 Axes>"
      ]
     },
     "metadata": {
      "needs_background": "light"
     },
     "output_type": "display_data"
    }
   ],
   "source": [
    "plt.figure(figsize=(25,10))\n",
    "ax = data['Power'].hist(bins=10)\n",
    "ax.set_title('Распределение по мощности(л.с.)')\n",
    "ax.set_xlabel('Мощность')\n",
    "ax.set_ylabel('Количество')\n",
    "plt.show()"
   ]
  },
  {
   "cell_type": "markdown",
   "metadata": {},
   "source": [
    "Тут у нас явно есть выбросы, построим boxplot, что бы по подробнее посмотреть на выбросы."
   ]
  },
  {
   "cell_type": "code",
   "execution_count": 21,
   "metadata": {},
   "outputs": [
    {
     "data": {
      "text/plain": [
       "<AxesSubplot:xlabel='Power'>"
      ]
     },
     "execution_count": 21,
     "metadata": {},
     "output_type": "execute_result"
    },
    {
     "data": {
      "image/png": "[encoded data removed]",
      "text/plain": [
       "<Figure size 1800x720 with 1 Axes>"
      ]
     },
     "metadata": {},
     "output_type": "display_data"
    }
   ],
   "source": [
    "sns.set_style('whitegrid') \n",
    "plt.figure(figsize=(25,10))\n",
    "sns.boxplot(x = 'Power', data = data) "
   ]
  },
  {
   "cell_type": "markdown",
   "metadata": {},
   "source": [
    "Мы видим что у нас есть автомобили с какой-то невероятной мощностью в 20000 лс, даже у одного из самых быстрых автомобилей Bugatti Chiron всего лишь 1500 л.с., так что будем реалистами и ораничимся в 400 л.с. Возможно ошибка была при выгрузке данных и где-то промахнулись с запятой."
   ]
  },
  {
   "cell_type": "code",
   "execution_count": 22,
   "metadata": {},
   "outputs": [
    {
     "data": {
      "text/plain": [
       "342842"
      ]
     },
     "execution_count": 22,
     "metadata": {},
     "output_type": "execute_result"
    }
   ],
   "source": [
    "data = data[data['Power'] < 400]\n",
    "data.shape[0]"
   ]
  },
  {
   "cell_type": "code",
   "execution_count": 23,
   "metadata": {},
   "outputs": [
    {
     "data": {
      "image/png": "[encoded data removed]",
      "text/plain": [
       "<Figure size 1800x720 with 1 Axes>"
      ]
     },
     "metadata": {},
     "output_type": "display_data"
    }
   ],
   "source": [
    "plt.figure(figsize=(25,10))\n",
    "ax = data['Power'].hist(bins=10)\n",
    "ax.set_title('Распределение по мощности(л.с.)')\n",
    "ax.set_xlabel('Мощность')\n",
    "ax.set_ylabel('Количество')\n",
    "plt.show()"
   ]
  },
  {
   "cell_type": "markdown",
   "metadata": {},
   "source": [
    "Так же на pairplot необычно выглядит распределение года регистрации, посмотрим на него поближе."
   ]
  },
  {
   "cell_type": "code",
   "execution_count": 24,
   "metadata": {},
   "outputs": [
    {
     "data": {
      "image/png": "[encoded data removed]",
      "text/plain": [
       "<Figure size 1800x720 with 1 Axes>"
      ]
     },
     "metadata": {},
     "output_type": "display_data"
    }
   ],
   "source": [
    "plt.figure(figsize=(25,10))\n",
    "ax = data['RegistrationYear'].hist(bins=10)\n",
    "ax.set_title('Распределение по году регистрации')\n",
    "ax.set_xlabel('Год регистрации')\n",
    "ax.set_ylabel('Количество')\n",
    "plt.show()"
   ]
  },
  {
   "cell_type": "markdown",
   "metadata": {},
   "source": [
    "Тут у нас тоже явно есть выбросы, построим boxplot, что бы по подробнее посмотреть на выбросы."
   ]
  },
  {
   "cell_type": "code",
   "execution_count": 25,
   "metadata": {},
   "outputs": [
    {
     "data": {
      "text/plain": [
       "<AxesSubplot:xlabel='RegistrationYear'>"
      ]
     },
     "execution_count": 25,
     "metadata": {},
     "output_type": "execute_result"
    },
    {
     "data": {
      "image/png": "[encoded data removed]",
      "text/plain": [
       "<Figure size 1800x720 with 1 Axes>"
      ]
     },
     "metadata": {},
     "output_type": "display_data"
    }
   ],
   "source": [
    "sns.set_style('whitegrid') \n",
    "plt.figure(figsize=(25,10))\n",
    "sns.boxplot(x = 'RegistrationYear', data = data) "
   ]
  },
  {
   "cell_type": "markdown",
   "metadata": {},
   "source": [
    "Здесь мы можем увидеть как машины из далёкого прошлого, так и машины из далёкого будущего. С верху ограничимся 2020 годом, а снизу 1965, если машины из будущего нам продать не могут, то раритет из недалёкого прошлого более чем."
   ]
  },
  {
   "cell_type": "code",
   "execution_count": 26,
   "metadata": {},
   "outputs": [],
   "source": [
    "data = data[(data['RegistrationYear'] >= 1965) & (data['RegistrationYear'] <= 2020)]"
   ]
  },
  {
   "cell_type": "code",
   "execution_count": 27,
   "metadata": {},
   "outputs": [
    {
     "data": {
      "image/png": "[encoded data removed]",
      "text/plain": [
       "<Figure size 1800x720 with 1 Axes>"
      ]
     },
     "metadata": {},
     "output_type": "display_data"
    }
   ],
   "source": [
    "plt.figure(figsize=(25,10))\n",
    "ax = data['RegistrationYear'].hist(bins=20)\n",
    "ax.set_title('Распределение по году регистрации')\n",
    "ax.set_xlabel('Год регистрации')\n",
    "ax.set_ylabel('Количество')\n",
    "plt.show()"
   ]
  },
  {
   "cell_type": "markdown",
   "metadata": {},
   "source": [
    "Посмотрим на распеределение машин по пробегу."
   ]
  },
  {
   "cell_type": "code",
   "execution_count": 28,
   "metadata": {},
   "outputs": [
    {
     "data": {
      "image/png": "[encoded data removed]",
      "text/plain": [
       "<Figure size 1800x720 with 1 Axes>"
      ]
     },
     "metadata": {},
     "output_type": "display_data"
    }
   ],
   "source": [
    "plt.figure(figsize=(25,10))\n",
    "ax = data['Kilometer'].hist(bins=10)\n",
    "ax.set_title('Распределение по пробегу')\n",
    "ax.set_xlabel('Пробег')\n",
    "ax.set_ylabel('Количество')\n",
    "plt.show()"
   ]
  },
  {
   "cell_type": "markdown",
   "metadata": {},
   "source": [
    "Мы видим большую концетрацию значений возле 150000, это могло быть максимальное доступное значение для установки текущего пробега, а так же это может быть некий психологический порог, после которого люди решают продать машину. Оставим всё как есть."
   ]
  },
  {
   "cell_type": "markdown",
   "metadata": {},
   "source": [
    "## Обучение моделей"
   ]
  },
  {
   "cell_type": "markdown",
   "metadata": {},
   "source": [
    "Подготовим наши данные для обучения, разделим данные на обучающую и валидационную выборки."
   ]
  },
  {
   "cell_type": "code",
   "execution_count": 29,
   "metadata": {},
   "outputs": [],
   "source": [
    "y = data.Price\n",
    "X = data.drop('Price', axis=1)"
   ]
  },
  {
   "cell_type": "markdown",
   "metadata": {},
   "source": [
    "Построим три разных модели: LinearRegression, CatBoostRegressor и "
   ]
  },
  {
   "cell_type": "markdown",
   "metadata": {},
   "source": [
    "Для линейной регрессии сделаем стандартизацию данных воспользовавшись StandardScaler и преобразование категориальных данных с помощью техники One-hot-encoding."
   ]
  },
  {
   "cell_type": "code",
   "execution_count": 30,
   "metadata": {},
   "outputs": [
    {
     "data": {
      "text/html": [
       "<div>\n",
       "<style scoped>\n",
       "    .dataframe tbody tr th:only-of-type {\n",
       "        vertical-align: middle;\n",
       "    }\n",
       "\n",
       "    .dataframe tbody tr th {\n",
       "        vertical-align: top;\n",
       "    }\n",
       "\n",
       "    .dataframe thead th {\n",
       "        text-align: right;\n",
       "    }\n",
       "</style>\n",
       "<table border=\"1\" class=\"dataframe\">\n",
       "  <thead>\n",
       "    <tr style=\"text-align: right;\">\n",
       "      <th></th>\n",
       "      <th>VehicleType</th>\n",
       "      <th>RegistrationYear</th>\n",
       "      <th>Gearbox</th>\n",
       "      <th>Power</th>\n",
       "      <th>Model</th>\n",
       "      <th>Kilometer</th>\n",
       "      <th>RegistrationMonth</th>\n",
       "      <th>FuelType</th>\n",
       "      <th>Brand</th>\n",
       "      <th>NotRepaired</th>\n",
       "    </tr>\n",
       "  </thead>\n",
       "  <tbody>\n",
       "    <tr>\n",
       "      <th>0</th>\n",
       "      <td>small</td>\n",
       "      <td>1993</td>\n",
       "      <td>manual</td>\n",
       "      <td>0</td>\n",
       "      <td>golf</td>\n",
       "      <td>150000</td>\n",
       "      <td>0</td>\n",
       "      <td>petrol</td>\n",
       "      <td>volkswagen</td>\n",
       "      <td>UNK</td>\n",
       "    </tr>\n",
       "    <tr>\n",
       "      <th>1</th>\n",
       "      <td>coupe</td>\n",
       "      <td>2011</td>\n",
       "      <td>manual</td>\n",
       "      <td>190</td>\n",
       "      <td>a3</td>\n",
       "      <td>125000</td>\n",
       "      <td>5</td>\n",
       "      <td>gasoline</td>\n",
       "      <td>audi</td>\n",
       "      <td>yes</td>\n",
       "    </tr>\n",
       "    <tr>\n",
       "      <th>2</th>\n",
       "      <td>suv</td>\n",
       "      <td>2004</td>\n",
       "      <td>auto</td>\n",
       "      <td>163</td>\n",
       "      <td>grand</td>\n",
       "      <td>125000</td>\n",
       "      <td>8</td>\n",
       "      <td>gasoline</td>\n",
       "      <td>jeep</td>\n",
       "      <td>UNK</td>\n",
       "    </tr>\n",
       "    <tr>\n",
       "      <th>3</th>\n",
       "      <td>small</td>\n",
       "      <td>2001</td>\n",
       "      <td>manual</td>\n",
       "      <td>75</td>\n",
       "      <td>golf</td>\n",
       "      <td>150000</td>\n",
       "      <td>6</td>\n",
       "      <td>petrol</td>\n",
       "      <td>volkswagen</td>\n",
       "      <td>no</td>\n",
       "    </tr>\n",
       "    <tr>\n",
       "      <th>4</th>\n",
       "      <td>small</td>\n",
       "      <td>2008</td>\n",
       "      <td>manual</td>\n",
       "      <td>69</td>\n",
       "      <td>fabia</td>\n",
       "      <td>90000</td>\n",
       "      <td>7</td>\n",
       "      <td>gasoline</td>\n",
       "      <td>skoda</td>\n",
       "      <td>no</td>\n",
       "    </tr>\n",
       "  </tbody>\n",
       "</table>\n",
       "</div>"
      ],
      "text/plain": [
       "  VehicleType  RegistrationYear Gearbox  Power  Model  Kilometer  \\\n",
       "0       small              1993  manual      0   golf     150000   \n",
       "1       coupe              2011  manual    190     a3     125000   \n",
       "2         suv              2004    auto    163  grand     125000   \n",
       "3       small              2001  manual     75   golf     150000   \n",
       "4       small              2008  manual     69  fabia      90000   \n",
       "\n",
       "   RegistrationMonth  FuelType       Brand NotRepaired  \n",
       "0                  0    petrol  volkswagen         UNK  \n",
       "1                  5  gasoline        audi         yes  \n",
       "2                  8  gasoline        jeep         UNK  \n",
       "3                  6    petrol  volkswagen          no  \n",
       "4                  7  gasoline       skoda          no  "
      ]
     },
     "execution_count": 30,
     "metadata": {},
     "output_type": "execute_result"
    }
   ],
   "source": [
    "scaler = StandardScaler()\n",
    "X_transformed = X.copy()\n",
    "X_transformed[['RegistrationYear', 'Power', 'Kilometer', 'RegistrationMonth']] = scaler.fit_transform(X_transformed[['RegistrationYear', 'Power', 'Kilometer', 'RegistrationMonth']])\n",
    "X.head()"
   ]
  },
  {
   "cell_type": "code",
   "execution_count": 31,
   "metadata": {},
   "outputs": [],
   "source": [
    "X_transformed = pd.get_dummies(X, columns=['VehicleType', 'Gearbox', 'Model', 'FuelType', 'Brand', 'NotRepaired'])"
   ]
  },
  {
   "cell_type": "code",
   "execution_count": 32,
   "metadata": {},
   "outputs": [
    {
     "data": {
      "text/html": [
       "<div>\n",
       "<style scoped>\n",
       "    .dataframe tbody tr th:only-of-type {\n",
       "        vertical-align: middle;\n",
       "    }\n",
       "\n",
       "    .dataframe tbody tr th {\n",
       "        vertical-align: top;\n",
       "    }\n",
       "\n",
       "    .dataframe thead th {\n",
       "        text-align: right;\n",
       "    }\n",
       "</style>\n",
       "<table border=\"1\" class=\"dataframe\">\n",
       "  <thead>\n",
       "    <tr style=\"text-align: right;\">\n",
       "      <th></th>\n",
       "      <th>RegistrationYear</th>\n",
       "      <th>Power</th>\n",
       "      <th>Kilometer</th>\n",
       "      <th>RegistrationMonth</th>\n",
       "      <th>VehicleType_UNK</th>\n",
       "      <th>VehicleType_bus</th>\n",
       "      <th>VehicleType_convertible</th>\n",
       "      <th>VehicleType_coupe</th>\n",
       "      <th>VehicleType_other</th>\n",
       "      <th>VehicleType_sedan</th>\n",
       "      <th>...</th>\n",
       "      <th>Brand_sonstige_autos</th>\n",
       "      <th>Brand_subaru</th>\n",
       "      <th>Brand_suzuki</th>\n",
       "      <th>Brand_toyota</th>\n",
       "      <th>Brand_trabant</th>\n",
       "      <th>Brand_volkswagen</th>\n",
       "      <th>Brand_volvo</th>\n",
       "      <th>NotRepaired_UNK</th>\n",
       "      <th>NotRepaired_no</th>\n",
       "      <th>NotRepaired_yes</th>\n",
       "    </tr>\n",
       "  </thead>\n",
       "  <tbody>\n",
       "    <tr>\n",
       "      <th>0</th>\n",
       "      <td>1993</td>\n",
       "      <td>0</td>\n",
       "      <td>150000</td>\n",
       "      <td>0</td>\n",
       "      <td>0</td>\n",
       "      <td>0</td>\n",
       "      <td>0</td>\n",
       "      <td>0</td>\n",
       "      <td>0</td>\n",
       "      <td>0</td>\n",
       "      <td>...</td>\n",
       "      <td>0</td>\n",
       "      <td>0</td>\n",
       "      <td>0</td>\n",
       "      <td>0</td>\n",
       "      <td>0</td>\n",
       "      <td>1</td>\n",
       "      <td>0</td>\n",
       "      <td>1</td>\n",
       "      <td>0</td>\n",
       "      <td>0</td>\n",
       "    </tr>\n",
       "    <tr>\n",
       "      <th>1</th>\n",
       "      <td>2011</td>\n",
       "      <td>190</td>\n",
       "      <td>125000</td>\n",
       "      <td>5</td>\n",
       "      <td>0</td>\n",
       "      <td>0</td>\n",
       "      <td>0</td>\n",
       "      <td>1</td>\n",
       "      <td>0</td>\n",
       "      <td>0</td>\n",
       "      <td>...</td>\n",
       "      <td>0</td>\n",
       "      <td>0</td>\n",
       "      <td>0</td>\n",
       "      <td>0</td>\n",
       "      <td>0</td>\n",
       "      <td>0</td>\n",
       "      <td>0</td>\n",
       "      <td>0</td>\n",
       "      <td>0</td>\n",
       "      <td>1</td>\n",
       "    </tr>\n",
       "    <tr>\n",
       "      <th>2</th>\n",
       "      <td>2004</td>\n",
       "      <td>163</td>\n",
       "      <td>125000</td>\n",
       "      <td>8</td>\n",
       "      <td>0</td>\n",
       "      <td>0</td>\n",
       "      <td>0</td>\n",
       "      <td>0</td>\n",
       "      <td>0</td>\n",
       "      <td>0</td>\n",
       "      <td>...</td>\n",
       "      <td>0</td>\n",
       "      <td>0</td>\n",
       "      <td>0</td>\n",
       "      <td>0</td>\n",
       "      <td>0</td>\n",
       "      <td>0</td>\n",
       "      <td>0</td>\n",
       "      <td>1</td>\n",
       "      <td>0</td>\n",
       "      <td>0</td>\n",
       "    </tr>\n",
       "    <tr>\n",
       "      <th>3</th>\n",
       "      <td>2001</td>\n",
       "      <td>75</td>\n",
       "      <td>150000</td>\n",
       "      <td>6</td>\n",
       "      <td>0</td>\n",
       "      <td>0</td>\n",
       "      <td>0</td>\n",
       "      <td>0</td>\n",
       "      <td>0</td>\n",
       "      <td>0</td>\n",
       "      <td>...</td>\n",
       "      <td>0</td>\n",
       "      <td>0</td>\n",
       "      <td>0</td>\n",
       "      <td>0</td>\n",
       "      <td>0</td>\n",
       "      <td>1</td>\n",
       "      <td>0</td>\n",
       "      <td>0</td>\n",
       "      <td>1</td>\n",
       "      <td>0</td>\n",
       "    </tr>\n",
       "    <tr>\n",
       "      <th>4</th>\n",
       "      <td>2008</td>\n",
       "      <td>69</td>\n",
       "      <td>90000</td>\n",
       "      <td>7</td>\n",
       "      <td>0</td>\n",
       "      <td>0</td>\n",
       "      <td>0</td>\n",
       "      <td>0</td>\n",
       "      <td>0</td>\n",
       "      <td>0</td>\n",
       "      <td>...</td>\n",
       "      <td>0</td>\n",
       "      <td>0</td>\n",
       "      <td>0</td>\n",
       "      <td>0</td>\n",
       "      <td>0</td>\n",
       "      <td>0</td>\n",
       "      <td>0</td>\n",
       "      <td>0</td>\n",
       "      <td>1</td>\n",
       "      <td>0</td>\n",
       "    </tr>\n",
       "    <tr>\n",
       "      <th>...</th>\n",
       "      <td>...</td>\n",
       "      <td>...</td>\n",
       "      <td>...</td>\n",
       "      <td>...</td>\n",
       "      <td>...</td>\n",
       "      <td>...</td>\n",
       "      <td>...</td>\n",
       "      <td>...</td>\n",
       "      <td>...</td>\n",
       "      <td>...</td>\n",
       "      <td>...</td>\n",
       "      <td>...</td>\n",
       "      <td>...</td>\n",
       "      <td>...</td>\n",
       "      <td>...</td>\n",
       "      <td>...</td>\n",
       "      <td>...</td>\n",
       "      <td>...</td>\n",
       "      <td>...</td>\n",
       "      <td>...</td>\n",
       "      <td>...</td>\n",
       "    </tr>\n",
       "    <tr>\n",
       "      <th>354363</th>\n",
       "      <td>2000</td>\n",
       "      <td>0</td>\n",
       "      <td>150000</td>\n",
       "      <td>3</td>\n",
       "      <td>0</td>\n",
       "      <td>1</td>\n",
       "      <td>0</td>\n",
       "      <td>0</td>\n",
       "      <td>0</td>\n",
       "      <td>0</td>\n",
       "      <td>...</td>\n",
       "      <td>0</td>\n",
       "      <td>0</td>\n",
       "      <td>0</td>\n",
       "      <td>0</td>\n",
       "      <td>0</td>\n",
       "      <td>0</td>\n",
       "      <td>0</td>\n",
       "      <td>0</td>\n",
       "      <td>1</td>\n",
       "      <td>0</td>\n",
       "    </tr>\n",
       "    <tr>\n",
       "      <th>354365</th>\n",
       "      <td>2005</td>\n",
       "      <td>0</td>\n",
       "      <td>20000</td>\n",
       "      <td>1</td>\n",
       "      <td>0</td>\n",
       "      <td>0</td>\n",
       "      <td>0</td>\n",
       "      <td>0</td>\n",
       "      <td>0</td>\n",
       "      <td>0</td>\n",
       "      <td>...</td>\n",
       "      <td>1</td>\n",
       "      <td>0</td>\n",
       "      <td>0</td>\n",
       "      <td>0</td>\n",
       "      <td>0</td>\n",
       "      <td>0</td>\n",
       "      <td>0</td>\n",
       "      <td>1</td>\n",
       "      <td>0</td>\n",
       "      <td>0</td>\n",
       "    </tr>\n",
       "    <tr>\n",
       "      <th>354366</th>\n",
       "      <td>2000</td>\n",
       "      <td>101</td>\n",
       "      <td>125000</td>\n",
       "      <td>3</td>\n",
       "      <td>0</td>\n",
       "      <td>0</td>\n",
       "      <td>1</td>\n",
       "      <td>0</td>\n",
       "      <td>0</td>\n",
       "      <td>0</td>\n",
       "      <td>...</td>\n",
       "      <td>0</td>\n",
       "      <td>0</td>\n",
       "      <td>0</td>\n",
       "      <td>0</td>\n",
       "      <td>0</td>\n",
       "      <td>0</td>\n",
       "      <td>0</td>\n",
       "      <td>0</td>\n",
       "      <td>1</td>\n",
       "      <td>0</td>\n",
       "    </tr>\n",
       "    <tr>\n",
       "      <th>354367</th>\n",
       "      <td>1996</td>\n",
       "      <td>102</td>\n",
       "      <td>150000</td>\n",
       "      <td>3</td>\n",
       "      <td>0</td>\n",
       "      <td>1</td>\n",
       "      <td>0</td>\n",
       "      <td>0</td>\n",
       "      <td>0</td>\n",
       "      <td>0</td>\n",
       "      <td>...</td>\n",
       "      <td>0</td>\n",
       "      <td>0</td>\n",
       "      <td>0</td>\n",
       "      <td>0</td>\n",
       "      <td>0</td>\n",
       "      <td>1</td>\n",
       "      <td>0</td>\n",
       "      <td>0</td>\n",
       "      <td>1</td>\n",
       "      <td>0</td>\n",
       "    </tr>\n",
       "    <tr>\n",
       "      <th>354368</th>\n",
       "      <td>2002</td>\n",
       "      <td>100</td>\n",
       "      <td>150000</td>\n",
       "      <td>6</td>\n",
       "      <td>0</td>\n",
       "      <td>0</td>\n",
       "      <td>0</td>\n",
       "      <td>0</td>\n",
       "      <td>0</td>\n",
       "      <td>0</td>\n",
       "      <td>...</td>\n",
       "      <td>0</td>\n",
       "      <td>0</td>\n",
       "      <td>0</td>\n",
       "      <td>0</td>\n",
       "      <td>0</td>\n",
       "      <td>1</td>\n",
       "      <td>0</td>\n",
       "      <td>1</td>\n",
       "      <td>0</td>\n",
       "      <td>0</td>\n",
       "    </tr>\n",
       "  </tbody>\n",
       "</table>\n",
       "<p>342102 rows × 318 columns</p>\n",
       "</div>"
      ],
      "text/plain": [
       "        RegistrationYear  Power  Kilometer  RegistrationMonth  \\\n",
       "0                   1993      0     150000                  0   \n",
       "1                   2011    190     125000                  5   \n",
       "2                   2004    163     125000                  8   \n",
       "3                   2001     75     150000                  6   \n",
       "4                   2008     69      90000                  7   \n",
       "...                  ...    ...        ...                ...   \n",
       "354363              2000      0     150000                  3   \n",
       "354365              2005      0      20000                  1   \n",
       "354366              2000    101     125000                  3   \n",
       "354367              1996    102     150000                  3   \n",
       "354368              2002    100     150000                  6   \n",
       "\n",
       "        VehicleType_UNK  VehicleType_bus  VehicleType_convertible  \\\n",
       "0                     0                0                        0   \n",
       "1                     0                0                        0   \n",
       "2                     0                0                        0   \n",
       "3                     0                0                        0   \n",
       "4                     0                0                        0   \n",
       "...                 ...              ...                      ...   \n",
       "354363                0                1                        0   \n",
       "354365                0                0                        0   \n",
       "354366                0                0                        1   \n",
       "354367                0                1                        0   \n",
       "354368                0                0                        0   \n",
       "\n",
       "        VehicleType_coupe  VehicleType_other  VehicleType_sedan  ...  \\\n",
       "0                       0                  0                  0  ...   \n",
       "1                       1                  0                  0  ...   \n",
       "2                       0                  0                  0  ...   \n",
       "3                       0                  0                  0  ...   \n",
       "4                       0                  0                  0  ...   \n",
       "...                   ...                ...                ...  ...   \n",
       "354363                  0                  0                  0  ...   \n",
       "354365                  0                  0                  0  ...   \n",
       "354366                  0                  0                  0  ...   \n",
       "354367                  0                  0                  0  ...   \n",
       "354368                  0                  0                  0  ...   \n",
       "\n",
       "        Brand_sonstige_autos  Brand_subaru  Brand_suzuki  Brand_toyota  \\\n",
       "0                          0             0             0             0   \n",
       "1                          0             0             0             0   \n",
       "2                          0             0             0             0   \n",
       "3                          0             0             0             0   \n",
       "4                          0             0             0             0   \n",
       "...                      ...           ...           ...           ...   \n",
       "354363                     0             0             0             0   \n",
       "354365                     1             0             0             0   \n",
       "354366                     0             0             0             0   \n",
       "354367                     0             0             0             0   \n",
       "354368                     0             0             0             0   \n",
       "\n",
       "        Brand_trabant  Brand_volkswagen  Brand_volvo  NotRepaired_UNK  \\\n",
       "0                   0                 1            0                1   \n",
       "1                   0                 0            0                0   \n",
       "2                   0                 0            0                1   \n",
       "3                   0                 1            0                0   \n",
       "4                   0                 0            0                0   \n",
       "...               ...               ...          ...              ...   \n",
       "354363              0                 0            0                0   \n",
       "354365              0                 0            0                1   \n",
       "354366              0                 0            0                0   \n",
       "354367              0                 1            0                0   \n",
       "354368              0                 1            0                1   \n",
       "\n",
       "        NotRepaired_no  NotRepaired_yes  \n",
       "0                    0                0  \n",
       "1                    0                1  \n",
       "2                    0                0  \n",
       "3                    1                0  \n",
       "4                    1                0  \n",
       "...                ...              ...  \n",
       "354363               1                0  \n",
       "354365               0                0  \n",
       "354366               1                0  \n",
       "354367               1                0  \n",
       "354368               0                0  \n",
       "\n",
       "[342102 rows x 318 columns]"
      ]
     },
     "execution_count": 32,
     "metadata": {},
     "output_type": "execute_result"
    }
   ],
   "source": [
    "X_transformed"
   ]
  },
  {
   "cell_type": "code",
   "execution_count": 33,
   "metadata": {},
   "outputs": [],
   "source": [
    "X_train, X_valid, y_train, y_valid = train_test_split(X_transformed, y, test_size=.2, random_state=111)"
   ]
  },
  {
   "cell_type": "code",
   "execution_count": 34,
   "metadata": {},
   "outputs": [],
   "source": [
    "linear_param_grid = {'normalize': [True, False], 'fit_intercept': [True, False]}\n",
    "\n",
    "linear_grid = GridSearchCV(LinearRegression(), param_grid=linear_param_grid,\n",
    "                   cv=5, n_jobs = -2)"
   ]
  },
  {
   "cell_type": "code",
   "execution_count": 35,
   "metadata": {},
   "outputs": [
    {
     "name": "stdout",
     "output_type": "stream",
     "text": [
      "CPU times: user 20.7 s, sys: 1.43 s, total: 22.2 s\n",
      "Wall time: 55.1 s\n"
     ]
    },
    {
     "data": {
      "text/plain": [
       "GridSearchCV(cv=5, estimator=LinearRegression(), n_jobs=-2,\n",
       "             param_grid={'fit_intercept': [True, False],\n",
       "                         'normalize': [True, False]})"
      ]
     },
     "execution_count": 35,
     "metadata": {},
     "output_type": "execute_result"
    }
   ],
   "source": [
    "%%time\n",
    "\n",
    "linear_grid.fit(X_train, y_train)"
   ]
  },
  {
   "cell_type": "code",
   "execution_count": 36,
   "metadata": {},
   "outputs": [
    {
     "data": {
      "text/plain": [
       "{'fit_intercept': True, 'normalize': False}"
      ]
     },
     "execution_count": 36,
     "metadata": {},
     "output_type": "execute_result"
    }
   ],
   "source": [
    "linear_grid.best_params_"
   ]
  },
  {
   "cell_type": "code",
   "execution_count": 37,
   "metadata": {},
   "outputs": [
    {
     "name": "stdout",
     "output_type": "stream",
     "text": [
      "CPU times: user 990 ms, sys: 147 ms, total: 1.14 s\n",
      "Wall time: 302 ms\n"
     ]
    }
   ],
   "source": [
    "%%time\n",
    "linear_predictions = linear_grid.predict(X_valid)"
   ]
  },
  {
   "cell_type": "code",
   "execution_count": 38,
   "metadata": {},
   "outputs": [
    {
     "name": "stdout",
     "output_type": "stream",
     "text": [
      "LinearRegression RMSE: 2666.7953026126715\n"
     ]
    }
   ],
   "source": [
    "print('LinearRegression RMSE: {}'.format(mean_squared_error(y_valid, linear_predictions) ** .5))"
   ]
  },
  {
   "cell_type": "code",
   "execution_count": 39,
   "metadata": {},
   "outputs": [],
   "source": [
    "lgb_parameters = {\n",
    "    'max_depth': [6,8,10],\n",
    "    'num_leaves':range(20,60,10),\n",
    "    'learning_rate': [0.01, 0.05, 0.1],\n",
    "    'n_estimators': [30, 50, 100]\n",
    "}\n",
    "\n",
    "lgb_model = LGBMRegressor()\n",
    "lgb_grid = GridSearchCV(estimator=lgb_model, param_grid = lgb_parameters, cv = 5, n_jobs=-2)"
   ]
  },
  {
   "cell_type": "code",
   "execution_count": 40,
   "metadata": {},
   "outputs": [
    {
     "name": "stderr",
     "output_type": "stream",
     "text": [
      "/usr/local/anaconda3/lib/python3.7/site-packages/joblib/externals/loky/process_executor.py:691: UserWarning: A worker stopped while some jobs were given to the executor. This can be caused by a too short worker timeout or by a memory leak.\n",
      "  \"timeout or by a memory leak.\", UserWarning\n"
     ]
    },
    {
     "name": "stdout",
     "output_type": "stream",
     "text": [
      "CPU times: user 38.3 s, sys: 5.3 s, total: 43.6 s\n",
      "Wall time: 8min 16s\n"
     ]
    },
    {
     "data": {
      "text/plain": [
       "GridSearchCV(cv=5, estimator=LGBMRegressor(), n_jobs=-2,\n",
       "             param_grid={'learning_rate': [0.01, 0.05, 0.1],\n",
       "                         'max_depth': [6, 8, 10], 'n_estimators': [30, 50, 100],\n",
       "                         'num_leaves': range(20, 60, 10)})"
      ]
     },
     "execution_count": 40,
     "metadata": {},
     "output_type": "execute_result"
    }
   ],
   "source": [
    "%%time\n",
    "lgb_grid.fit(X_train, y_train)"
   ]
  },
  {
   "cell_type": "code",
   "execution_count": 41,
   "metadata": {},
   "outputs": [
    {
     "data": {
      "text/plain": [
       "{'boosting_type': 'gbdt',\n",
       " 'class_weight': None,\n",
       " 'colsample_bytree': 1.0,\n",
       " 'importance_type': 'split',\n",
       " 'learning_rate': 0.1,\n",
       " 'max_depth': 10,\n",
       " 'min_child_samples': 20,\n",
       " 'min_child_weight': 0.001,\n",
       " 'min_split_gain': 0.0,\n",
       " 'n_estimators': 100,\n",
       " 'n_jobs': -1,\n",
       " 'num_leaves': 50,\n",
       " 'objective': None,\n",
       " 'random_state': None,\n",
       " 'reg_alpha': 0.0,\n",
       " 'reg_lambda': 0.0,\n",
       " 'silent': True,\n",
       " 'subsample': 1.0,\n",
       " 'subsample_for_bin': 200000,\n",
       " 'subsample_freq': 0}"
      ]
     },
     "execution_count": 41,
     "metadata": {},
     "output_type": "execute_result"
    }
   ],
   "source": [
    "lgb_grid.best_estimator_.get_params()"
   ]
  },
  {
   "cell_type": "code",
   "execution_count": 42,
   "metadata": {},
   "outputs": [
    {
     "name": "stdout",
     "output_type": "stream",
     "text": [
      "CPU times: user 4.51 s, sys: 473 ms, total: 4.98 s\n",
      "Wall time: 690 ms\n"
     ]
    }
   ],
   "source": [
    "%%time\n",
    "lgb_predictions = lgb_grid.predict(X_valid)"
   ]
  },
  {
   "cell_type": "code",
   "execution_count": 43,
   "metadata": {},
   "outputs": [
    {
     "name": "stdout",
     "output_type": "stream",
     "text": [
      "LGBMRegressor RMSE: 1733.1411438970463\n"
     ]
    }
   ],
   "source": [
    "print('LGBMRegressor RMSE: {}'.format(mean_squared_error(y_valid, lgb_predictions) ** .5))"
   ]
  },
  {
   "cell_type": "code",
   "execution_count": 44,
   "metadata": {},
   "outputs": [],
   "source": [
    "X_boosting_train, X_boosting_valid, y_boosting_train, y_boosting_valid = train_test_split(X, y, test_size=.2, random_state=111)"
   ]
  },
  {
   "cell_type": "code",
   "execution_count": 45,
   "metadata": {},
   "outputs": [],
   "source": [
    "cat_features = [0,2,4,6,7,8,9]"
   ]
  },
  {
   "cell_type": "code",
   "execution_count": 46,
   "metadata": {},
   "outputs": [],
   "source": [
    "catboost_parameters = {\n",
    "    'depth': [6,8,10],\n",
    "    'learning_rate': [0.01, 0.05, 0.1],\n",
    "    'iterations': [30, 50, 100]\n",
    "}\n",
    "\n",
    "catboost_model = CatBoostRegressor(cat_features=cat_features)\n",
    "catboost_grid = GridSearchCV(estimator=catboost_model, param_grid = catboost_parameters, cv = 5, n_jobs=-2)"
   ]
  },
  {
   "cell_type": "code",
   "execution_count": 47,
   "metadata": {},
   "outputs": [
    {
     "name": "stdout",
     "output_type": "stream",
     "text": [
      "0:\tlearn: 4183.9215026\ttotal: 167ms\tremaining: 16.5s\n",
      "1:\tlearn: 3907.8320138\ttotal: 263ms\tremaining: 12.9s\n",
      "2:\tlearn: 3666.2190366\ttotal: 364ms\tremaining: 11.8s\n",
      "3:\tlearn: 3454.4351545\ttotal: 475ms\tremaining: 11.4s\n",
      "4:\tlearn: 3267.3156002\ttotal: 572ms\tremaining: 10.9s\n",
      "5:\tlearn: 3102.8683987\ttotal: 657ms\tremaining: 10.3s\n",
      "6:\tlearn: 2963.2952609\ttotal: 742ms\tremaining: 9.86s\n",
      "7:\tlearn: 2831.2663166\ttotal: 838ms\tremaining: 9.64s\n",
      "8:\tlearn: 2717.9875862\ttotal: 934ms\tremaining: 9.44s\n",
      "9:\tlearn: 2622.7603531\ttotal: 1.02s\tremaining: 9.15s\n",
      "10:\tlearn: 2536.6170884\ttotal: 1.1s\tremaining: 8.89s\n",
      "11:\tlearn: 2450.7902534\ttotal: 1.18s\tremaining: 8.67s\n",
      "12:\tlearn: 2379.3446799\ttotal: 1.26s\tremaining: 8.47s\n",
      "13:\tlearn: 2314.5193928\ttotal: 1.34s\tremaining: 8.24s\n",
      "14:\tlearn: 2260.6168963\ttotal: 1.42s\tremaining: 8.04s\n",
      "15:\tlearn: 2214.3623507\ttotal: 1.5s\tremaining: 7.89s\n",
      "16:\tlearn: 2174.2663094\ttotal: 1.59s\tremaining: 7.75s\n",
      "17:\tlearn: 2134.4351761\ttotal: 1.66s\tremaining: 7.58s\n",
      "18:\tlearn: 2098.6885922\ttotal: 1.75s\tremaining: 7.45s\n",
      "19:\tlearn: 2068.7045414\ttotal: 1.84s\tremaining: 7.38s\n",
      "20:\tlearn: 2039.0943850\ttotal: 1.93s\tremaining: 7.26s\n",
      "21:\tlearn: 2011.2953997\ttotal: 2.01s\tremaining: 7.14s\n",
      "22:\tlearn: 1988.3638600\ttotal: 2.09s\tremaining: 7.01s\n",
      "23:\tlearn: 1967.8672879\ttotal: 2.17s\tremaining: 6.88s\n",
      "24:\tlearn: 1949.1422447\ttotal: 2.26s\tremaining: 6.78s\n",
      "25:\tlearn: 1932.7368789\ttotal: 2.34s\tremaining: 6.65s\n",
      "26:\tlearn: 1918.2587427\ttotal: 2.42s\tremaining: 6.54s\n",
      "27:\tlearn: 1905.3596254\ttotal: 2.5s\tremaining: 6.43s\n",
      "28:\tlearn: 1891.7766682\ttotal: 2.58s\tremaining: 6.31s\n",
      "29:\tlearn: 1881.1914691\ttotal: 2.66s\tremaining: 6.21s\n",
      "30:\tlearn: 1870.8824632\ttotal: 2.78s\tremaining: 6.18s\n",
      "31:\tlearn: 1863.0983381\ttotal: 2.86s\tremaining: 6.07s\n",
      "32:\tlearn: 1853.2531431\ttotal: 2.94s\tremaining: 5.96s\n",
      "33:\tlearn: 1845.8629112\ttotal: 3.02s\tremaining: 5.86s\n",
      "34:\tlearn: 1839.4045394\ttotal: 3.1s\tremaining: 5.75s\n",
      "35:\tlearn: 1832.8020210\ttotal: 3.18s\tremaining: 5.65s\n",
      "36:\tlearn: 1826.5974526\ttotal: 3.26s\tremaining: 5.55s\n",
      "37:\tlearn: 1821.4151289\ttotal: 3.33s\tremaining: 5.44s\n",
      "38:\tlearn: 1816.3810515\ttotal: 3.41s\tremaining: 5.33s\n",
      "39:\tlearn: 1811.2874824\ttotal: 3.49s\tremaining: 5.24s\n",
      "40:\tlearn: 1806.7040673\ttotal: 3.57s\tremaining: 5.14s\n",
      "41:\tlearn: 1799.4267941\ttotal: 3.65s\tremaining: 5.04s\n",
      "42:\tlearn: 1795.2478684\ttotal: 3.73s\tremaining: 4.95s\n",
      "43:\tlearn: 1790.8068071\ttotal: 3.81s\tremaining: 4.85s\n",
      "44:\tlearn: 1786.6247662\ttotal: 3.89s\tremaining: 4.76s\n",
      "45:\tlearn: 1781.6159703\ttotal: 3.98s\tremaining: 4.67s\n",
      "46:\tlearn: 1777.4813182\ttotal: 4.07s\tremaining: 4.59s\n",
      "47:\tlearn: 1773.9866956\ttotal: 4.17s\tremaining: 4.52s\n",
      "48:\tlearn: 1770.9699350\ttotal: 4.27s\tremaining: 4.44s\n",
      "49:\tlearn: 1767.3158436\ttotal: 4.37s\tremaining: 4.37s\n",
      "50:\tlearn: 1763.8238218\ttotal: 4.45s\tremaining: 4.28s\n",
      "51:\tlearn: 1760.6507864\ttotal: 4.54s\tremaining: 4.19s\n",
      "52:\tlearn: 1757.9379819\ttotal: 4.64s\tremaining: 4.12s\n",
      "53:\tlearn: 1755.8864999\ttotal: 4.73s\tremaining: 4.03s\n",
      "54:\tlearn: 1753.2934999\ttotal: 4.82s\tremaining: 3.94s\n",
      "55:\tlearn: 1749.7167244\ttotal: 4.91s\tremaining: 3.86s\n",
      "56:\tlearn: 1746.5412052\ttotal: 5s\tremaining: 3.77s\n",
      "57:\tlearn: 1743.7901935\ttotal: 5.09s\tremaining: 3.69s\n",
      "58:\tlearn: 1740.2756686\ttotal: 5.18s\tremaining: 3.6s\n",
      "59:\tlearn: 1737.3403708\ttotal: 5.28s\tremaining: 3.52s\n",
      "60:\tlearn: 1734.7443783\ttotal: 5.38s\tremaining: 3.44s\n",
      "61:\tlearn: 1732.7775328\ttotal: 5.47s\tremaining: 3.35s\n",
      "62:\tlearn: 1729.7899268\ttotal: 5.55s\tremaining: 3.26s\n",
      "63:\tlearn: 1727.0392458\ttotal: 5.64s\tremaining: 3.17s\n",
      "64:\tlearn: 1725.2754816\ttotal: 5.73s\tremaining: 3.08s\n",
      "65:\tlearn: 1723.7173775\ttotal: 5.82s\tremaining: 3s\n",
      "66:\tlearn: 1721.3991639\ttotal: 5.93s\tremaining: 2.92s\n",
      "67:\tlearn: 1719.8795351\ttotal: 6.02s\tremaining: 2.83s\n",
      "68:\tlearn: 1718.0550866\ttotal: 6.1s\tremaining: 2.74s\n",
      "69:\tlearn: 1716.8522189\ttotal: 6.19s\tremaining: 2.65s\n",
      "70:\tlearn: 1715.4056791\ttotal: 6.26s\tremaining: 2.56s\n",
      "71:\tlearn: 1713.3906245\ttotal: 6.34s\tremaining: 2.47s\n",
      "72:\tlearn: 1710.3445683\ttotal: 6.42s\tremaining: 2.38s\n",
      "73:\tlearn: 1708.8304271\ttotal: 6.5s\tremaining: 2.28s\n",
      "74:\tlearn: 1707.8122123\ttotal: 6.59s\tremaining: 2.2s\n",
      "75:\tlearn: 1705.2583034\ttotal: 6.67s\tremaining: 2.11s\n",
      "76:\tlearn: 1702.8711144\ttotal: 6.76s\tremaining: 2.02s\n",
      "77:\tlearn: 1701.4368608\ttotal: 6.85s\tremaining: 1.93s\n",
      "78:\tlearn: 1700.1500764\ttotal: 6.94s\tremaining: 1.84s\n",
      "79:\tlearn: 1697.4513910\ttotal: 7.02s\tremaining: 1.75s\n",
      "80:\tlearn: 1696.1993584\ttotal: 7.1s\tremaining: 1.66s\n",
      "81:\tlearn: 1694.6403600\ttotal: 7.17s\tremaining: 1.57s\n",
      "82:\tlearn: 1693.6758243\ttotal: 7.26s\tremaining: 1.49s\n",
      "83:\tlearn: 1692.0762666\ttotal: 7.33s\tremaining: 1.4s\n",
      "84:\tlearn: 1691.0210057\ttotal: 7.41s\tremaining: 1.31s\n",
      "85:\tlearn: 1689.3325569\ttotal: 7.49s\tremaining: 1.22s\n",
      "86:\tlearn: 1687.0537979\ttotal: 7.57s\tremaining: 1.13s\n",
      "87:\tlearn: 1685.2689462\ttotal: 7.66s\tremaining: 1.04s\n",
      "88:\tlearn: 1684.6006505\ttotal: 7.75s\tremaining: 957ms\n",
      "89:\tlearn: 1683.1012919\ttotal: 7.83s\tremaining: 870ms\n",
      "90:\tlearn: 1680.7532528\ttotal: 7.93s\tremaining: 784ms\n",
      "91:\tlearn: 1678.7662366\ttotal: 8.02s\tremaining: 697ms\n",
      "92:\tlearn: 1677.4869156\ttotal: 8.1s\tremaining: 610ms\n",
      "93:\tlearn: 1676.2244840\ttotal: 8.18s\tremaining: 522ms\n",
      "94:\tlearn: 1674.6631170\ttotal: 8.26s\tremaining: 435ms\n",
      "95:\tlearn: 1673.3321720\ttotal: 8.34s\tremaining: 347ms\n",
      "96:\tlearn: 1672.5453525\ttotal: 8.41s\tremaining: 260ms\n",
      "97:\tlearn: 1670.5769443\ttotal: 8.49s\tremaining: 173ms\n",
      "98:\tlearn: 1669.7926247\ttotal: 8.58s\tremaining: 86.7ms\n",
      "99:\tlearn: 1667.6473700\ttotal: 8.68s\tremaining: 0us\n",
      "CPU times: user 2min 6s, sys: 14 s, total: 2min 20s\n",
      "Wall time: 8min 9s\n"
     ]
    },
    {
     "data": {
      "text/plain": [
       "GridSearchCV(cv=5,\n",
       "             estimator=<catboost.core.CatBoostRegressor object at 0x7fbdeac2ec50>,\n",
       "             n_jobs=-2,\n",
       "             param_grid={'depth': [6, 8, 10], 'iterations': [30, 50, 100],\n",
       "                         'learning_rate': [0.01, 0.05, 0.1]})"
      ]
     },
     "execution_count": 47,
     "metadata": {},
     "output_type": "execute_result"
    }
   ],
   "source": [
    "%%time\n",
    "catboost_grid.fit(X_boosting_train, y_boosting_train)"
   ]
  },
  {
   "cell_type": "code",
   "execution_count": 48,
   "metadata": {},
   "outputs": [
    {
     "data": {
      "text/plain": [
       "{'iterations': 100,\n",
       " 'learning_rate': 0.1,\n",
       " 'depth': 10,\n",
       " 'loss_function': 'RMSE',\n",
       " 'cat_features': [0, 2, 4, 6, 7, 8, 9]}"
      ]
     },
     "execution_count": 48,
     "metadata": {},
     "output_type": "execute_result"
    }
   ],
   "source": [
    "catboost_grid.best_estimator_.get_params()"
   ]
  },
  {
   "cell_type": "code",
   "execution_count": 49,
   "metadata": {},
   "outputs": [
    {
     "name": "stdout",
     "output_type": "stream",
     "text": [
      "CPU times: user 583 ms, sys: 30.7 ms, total: 614 ms\n",
      "Wall time: 369 ms\n"
     ]
    }
   ],
   "source": [
    "%%time\n",
    "catboost_predictions = catboost_grid.predict(X_boosting_valid)"
   ]
  },
  {
   "cell_type": "code",
   "execution_count": 50,
   "metadata": {},
   "outputs": [
    {
     "name": "stdout",
     "output_type": "stream",
     "text": [
      "Catboost RMSE: 1731.042472958787\n"
     ]
    }
   ],
   "source": [
    "print('Catboost RMSE: {}'.format(mean_squared_error(y_boosting_valid, catboost_predictions) ** .5))"
   ]
  },
  {
   "cell_type": "markdown",
   "metadata": {},
   "source": [
    "Проверим наши модели на адекватность."
   ]
  },
  {
   "cell_type": "code",
   "execution_count": 51,
   "metadata": {},
   "outputs": [
    {
     "name": "stdout",
     "output_type": "stream",
     "text": [
      "Dummy RMSE: 4512.36858818714\n"
     ]
    }
   ],
   "source": [
    "dummy_regr = DummyRegressor(strategy=\"mean\")\n",
    "dummy_regr.fit(X_train, y_train)\n",
    "\n",
    "dummy_rmse = mean_squared_error(y_valid, dummy_regr.predict(X_valid)) ** .5\n",
    "print('Dummy RMSE: {}'.format(dummy_rmse))"
   ]
  },
  {
   "cell_type": "markdown",
   "metadata": {},
   "source": [
    "**Вывод:** Мы можем увидеть, что все три наши модели вменяемые, но они оказались совершенно разными по качеству и по скорости обучения. Самой быстрой и не точной оказалась модель линейной регресии она обгоняет и LGBMRegressor и CatBoostRegressor. Второй по скорости и первой по точности с выбранными гиперпараметрами оказалась модель CatBoostRegressor, в ней уже применяется градиетный бустинг, она обучилась 8 минут и дала сильно меньший RMSE в сравнении с моделью линейной регрессии. Самой медленной и второй по точности оказалась модель LGBMRegressor, она также применяет градиетный бустинг для обучения, но само обучение длиться тоже долго, чуть больше 8 минут, а разница c RMSE CatBoostRegressor оказалась не очень высокой. Для данной задачи лучше всего подошёл CatBoostRegressor."
   ]
  },
  {
   "cell_type": "code",
   "execution_count": null,
   "metadata": {},
   "outputs": [],
   "source": []
  }
 ],
 "metadata": {
  "kernelspec": {
   "display_name": "Python 3",
   "language": "python",
   "name": "python3"
  },
  "language_info": {
   "codemirror_mode": {
    "name": "ipython",
    "version": 3
   },
   "file_extension": ".py",
   "mimetype": "text/x-python",
   "name": "python",
   "nbconvert_exporter": "python",
   "pygments_lexer": "ipython3",
   "version": "3.7.9"
  }
 },
 "nbformat": 4,
 "nbformat_minor": 4
}
