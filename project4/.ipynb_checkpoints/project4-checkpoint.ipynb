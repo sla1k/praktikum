{
 "cells": [
  {
   "cell_type": "markdown",
   "metadata": {},
   "source": [
    "# Описание проекта\n",
    "\n",
    "Оператор мобильной связи «Мегалайн» выяснил: многие клиенты пользуются архивными тарифами. Они хотят построить систему, способную проанализировать поведение клиентов и предложить пользователям новый тариф: «Смарт» или «Ультра».\n",
    "\n",
    "В вашем распоряжении данные о поведении клиентов, которые уже перешли на эти тарифы (из проекта курса «Статистический анализ данных»). Нужно построить модель для задачи классификации, которая выберет подходящий тариф. Предобработка данных не понадобится — вы её уже сделали.\n",
    "\n",
    "Постройте модель с максимально большим значением accuracy. Чтобы сдать проект успешно, нужно довести долю правильных ответов по крайней мере до 0.75. Проверьте accuracy на тестовой выборке самостоятельно."
   ]
  },
  {
   "cell_type": "markdown",
   "metadata": {},
   "source": [
    "## Описание данных\n",
    "\n",
    "Каждый объект в наборе данных — это информация о поведении одного пользователя за месяц. \n",
    "Известно:\n",
    "- сalls — количество звонков,\n",
    "- minutes — суммарная длительность звонков в минутах,\n",
    "- messages — количество sms-сообщений,\n",
    "- mb_used — израсходованный интернет-трафик в Мб,\n",
    "- is_ultra — каким тарифом пользовался в течение месяца («Ультра» — 1, «Смарт» — 0)."
   ]
  },
  {
   "cell_type": "code",
   "execution_count": 118,
   "metadata": {},
   "outputs": [],
   "source": [
    "import pandas as pd\n",
    "from sklearn.tree import DecisionTreeClassifier\n",
    "from sklearn.ensemble import RandomForestClassifier\n",
    "from sklearn.linear_model import LogisticRegression\n",
    "from sklearn.metrics import accuracy_score\n",
    "from sklearn.model_selection import train_test_split, GridSearchCV\n",
    "from sklearn.metrics import classification_report\n",
    "from sklearn.dummy import DummyClassifier\n",
    "import joblib"
   ]
  },
  {
   "cell_type": "markdown",
   "metadata": {},
   "source": [
    "## Изучение данных"
   ]
  },
  {
   "cell_type": "code",
   "execution_count": 119,
   "metadata": {},
   "outputs": [],
   "source": [
    "df = pd.read_csv('datasets/users_behavior.csv')"
   ]
  },
  {
   "cell_type": "code",
   "execution_count": 120,
   "metadata": {},
   "outputs": [
    {
     "name": "stdout",
     "output_type": "stream",
     "text": [
      "<class 'pandas.core.frame.DataFrame'>\n",
      "RangeIndex: 3214 entries, 0 to 3213\n",
      "Data columns (total 5 columns):\n",
      " #   Column    Non-Null Count  Dtype  \n",
      "---  ------    --------------  -----  \n",
      " 0   calls     3214 non-null   float64\n",
      " 1   minutes   3214 non-null   float64\n",
      " 2   messages  3214 non-null   float64\n",
      " 3   mb_used   3214 non-null   float64\n",
      " 4   is_ultra  3214 non-null   int64  \n",
      "dtypes: float64(4), int64(1)\n",
      "memory usage: 125.7 KB\n"
     ]
    }
   ],
   "source": [
    "df.info()"
   ]
  },
  {
   "cell_type": "code",
   "execution_count": 121,
   "metadata": {},
   "outputs": [
    {
     "data": {
      "text/html": [
       "<div>\n",
       "<style scoped>\n",
       "    .dataframe tbody tr th:only-of-type {\n",
       "        vertical-align: middle;\n",
       "    }\n",
       "\n",
       "    .dataframe tbody tr th {\n",
       "        vertical-align: top;\n",
       "    }\n",
       "\n",
       "    .dataframe thead th {\n",
       "        text-align: right;\n",
       "    }\n",
       "</style>\n",
       "<table border=\"1\" class=\"dataframe\">\n",
       "  <thead>\n",
       "    <tr style=\"text-align: right;\">\n",
       "      <th></th>\n",
       "      <th>calls</th>\n",
       "      <th>minutes</th>\n",
       "      <th>messages</th>\n",
       "      <th>mb_used</th>\n",
       "      <th>is_ultra</th>\n",
       "    </tr>\n",
       "  </thead>\n",
       "  <tbody>\n",
       "    <tr>\n",
       "      <th>1319</th>\n",
       "      <td>55.0</td>\n",
       "      <td>421.69</td>\n",
       "      <td>80.0</td>\n",
       "      <td>26894.34</td>\n",
       "      <td>0</td>\n",
       "    </tr>\n",
       "    <tr>\n",
       "      <th>2991</th>\n",
       "      <td>60.0</td>\n",
       "      <td>351.44</td>\n",
       "      <td>85.0</td>\n",
       "      <td>21943.86</td>\n",
       "      <td>0</td>\n",
       "    </tr>\n",
       "    <tr>\n",
       "      <th>3118</th>\n",
       "      <td>74.0</td>\n",
       "      <td>546.48</td>\n",
       "      <td>43.0</td>\n",
       "      <td>15891.21</td>\n",
       "      <td>0</td>\n",
       "    </tr>\n",
       "    <tr>\n",
       "      <th>2996</th>\n",
       "      <td>67.0</td>\n",
       "      <td>499.29</td>\n",
       "      <td>10.0</td>\n",
       "      <td>23124.48</td>\n",
       "      <td>0</td>\n",
       "    </tr>\n",
       "    <tr>\n",
       "      <th>2659</th>\n",
       "      <td>69.0</td>\n",
       "      <td>457.30</td>\n",
       "      <td>14.0</td>\n",
       "      <td>17240.58</td>\n",
       "      <td>0</td>\n",
       "    </tr>\n",
       "    <tr>\n",
       "      <th>361</th>\n",
       "      <td>72.0</td>\n",
       "      <td>497.93</td>\n",
       "      <td>46.0</td>\n",
       "      <td>12651.41</td>\n",
       "      <td>0</td>\n",
       "    </tr>\n",
       "    <tr>\n",
       "      <th>1117</th>\n",
       "      <td>9.0</td>\n",
       "      <td>59.72</td>\n",
       "      <td>6.0</td>\n",
       "      <td>838.22</td>\n",
       "      <td>0</td>\n",
       "    </tr>\n",
       "    <tr>\n",
       "      <th>3207</th>\n",
       "      <td>17.0</td>\n",
       "      <td>92.39</td>\n",
       "      <td>2.0</td>\n",
       "      <td>4299.25</td>\n",
       "      <td>0</td>\n",
       "    </tr>\n",
       "    <tr>\n",
       "      <th>356</th>\n",
       "      <td>1.0</td>\n",
       "      <td>11.54</td>\n",
       "      <td>111.0</td>\n",
       "      <td>32758.53</td>\n",
       "      <td>1</td>\n",
       "    </tr>\n",
       "    <tr>\n",
       "      <th>2513</th>\n",
       "      <td>39.0</td>\n",
       "      <td>242.71</td>\n",
       "      <td>0.0</td>\n",
       "      <td>20480.11</td>\n",
       "      <td>0</td>\n",
       "    </tr>\n",
       "    <tr>\n",
       "      <th>3190</th>\n",
       "      <td>72.0</td>\n",
       "      <td>357.16</td>\n",
       "      <td>34.0</td>\n",
       "      <td>20734.74</td>\n",
       "      <td>0</td>\n",
       "    </tr>\n",
       "    <tr>\n",
       "      <th>3210</th>\n",
       "      <td>25.0</td>\n",
       "      <td>190.36</td>\n",
       "      <td>0.0</td>\n",
       "      <td>3275.61</td>\n",
       "      <td>0</td>\n",
       "    </tr>\n",
       "    <tr>\n",
       "      <th>2804</th>\n",
       "      <td>60.0</td>\n",
       "      <td>370.47</td>\n",
       "      <td>27.0</td>\n",
       "      <td>15877.80</td>\n",
       "      <td>0</td>\n",
       "    </tr>\n",
       "    <tr>\n",
       "      <th>982</th>\n",
       "      <td>52.0</td>\n",
       "      <td>350.92</td>\n",
       "      <td>63.0</td>\n",
       "      <td>21237.38</td>\n",
       "      <td>0</td>\n",
       "    </tr>\n",
       "    <tr>\n",
       "      <th>1912</th>\n",
       "      <td>36.0</td>\n",
       "      <td>282.91</td>\n",
       "      <td>55.0</td>\n",
       "      <td>22405.02</td>\n",
       "      <td>0</td>\n",
       "    </tr>\n",
       "  </tbody>\n",
       "</table>\n",
       "</div>"
      ],
      "text/plain": [
       "      calls  minutes  messages   mb_used  is_ultra\n",
       "1319   55.0   421.69      80.0  26894.34         0\n",
       "2991   60.0   351.44      85.0  21943.86         0\n",
       "3118   74.0   546.48      43.0  15891.21         0\n",
       "2996   67.0   499.29      10.0  23124.48         0\n",
       "2659   69.0   457.30      14.0  17240.58         0\n",
       "361    72.0   497.93      46.0  12651.41         0\n",
       "1117    9.0    59.72       6.0    838.22         0\n",
       "3207   17.0    92.39       2.0   4299.25         0\n",
       "356     1.0    11.54     111.0  32758.53         1\n",
       "2513   39.0   242.71       0.0  20480.11         0\n",
       "3190   72.0   357.16      34.0  20734.74         0\n",
       "3210   25.0   190.36       0.0   3275.61         0\n",
       "2804   60.0   370.47      27.0  15877.80         0\n",
       "982    52.0   350.92      63.0  21237.38         0\n",
       "1912   36.0   282.91      55.0  22405.02         0"
      ]
     },
     "execution_count": 121,
     "metadata": {},
     "output_type": "execute_result"
    }
   ],
   "source": [
    "df.sample(15)"
   ]
  },
  {
   "cell_type": "markdown",
   "metadata": {},
   "source": [
    "В датасете 3213 записи, без пропусков. Значения выглядят нормальными, так что можно приступать к разделению данных для тренировки, валидации и тестирования."
   ]
  },
  {
   "cell_type": "markdown",
   "metadata": {},
   "source": [
    "## Разделение данных на выборки"
   ]
  },
  {
   "cell_type": "markdown",
   "metadata": {},
   "source": [
    "Для обучения моделей нам не нужен такой признак как количство звонков, так как в тарифах считается количество использованных минут, а не количество звонков."
   ]
  },
  {
   "cell_type": "code",
   "execution_count": 122,
   "metadata": {},
   "outputs": [
    {
     "name": "stdout",
     "output_type": "stream",
     "text": [
      "<class 'pandas.core.frame.DataFrame'>\n",
      "RangeIndex: 3214 entries, 0 to 3213\n",
      "Data columns (total 4 columns):\n",
      " #   Column    Non-Null Count  Dtype  \n",
      "---  ------    --------------  -----  \n",
      " 0   minutes   3214 non-null   float64\n",
      " 1   messages  3214 non-null   float64\n",
      " 2   mb_used   3214 non-null   float64\n",
      " 3   is_ultra  3214 non-null   int64  \n",
      "dtypes: float64(3), int64(1)\n",
      "memory usage: 100.6 KB\n"
     ]
    }
   ],
   "source": [
    "df.drop('calls', axis=1, inplace=True)\n",
    "df.info()"
   ]
  },
  {
   "cell_type": "code",
   "execution_count": 123,
   "metadata": {},
   "outputs": [],
   "source": [
    "features = df.drop('is_ultra', axis=1)\n",
    "targets = df['is_ultra']"
   ]
  },
  {
   "cell_type": "markdown",
   "metadata": {},
   "source": [
    "Поделим выборку на 60% для обучения и по 20% для валидации и тестирования."
   ]
  },
  {
   "cell_type": "code",
   "execution_count": 124,
   "metadata": {},
   "outputs": [],
   "source": [
    "features_train, features_val_test, target_train, target_val_test = train_test_split(features, targets, test_size=0.4, stratify=targets, random_state=123)\n",
    "\n",
    "features_val, features_test, target_val, target_test = train_test_split(features_val_test, target_val_test, test_size=0.5, stratify=target_val_test, random_state=123)"
   ]
  },
  {
   "cell_type": "markdown",
   "metadata": {},
   "source": [
    "## Исследование разных моделей"
   ]
  },
  {
   "cell_type": "markdown",
   "metadata": {},
   "source": [
    "### Исследование модели дерева решений"
   ]
  },
  {
   "cell_type": "code",
   "execution_count": 125,
   "metadata": {},
   "outputs": [
    {
     "name": "stdout",
     "output_type": "stream",
     "text": [
      "Deep: 1\n",
      "Decision Tree train: 0.754149377593361\n",
      "Decision Tree valid: 0.7465007776049767\n",
      "\n",
      "Deep: 2\n",
      "Decision Tree train: 0.7821576763485477\n",
      "Decision Tree valid: 0.7822706065318819\n",
      "\n",
      "Deep: 3\n",
      "Decision Tree train: 0.7971991701244814\n",
      "Decision Tree valid: 0.7947122861586314\n",
      "\n",
      "Deep: 4\n",
      "Decision Tree train: 0.8091286307053942\n",
      "Decision Tree valid: 0.7838258164852255\n",
      "\n",
      "Deep: 5\n",
      "Decision Tree train: 0.8127593360995851\n",
      "Decision Tree valid: 0.7822706065318819\n",
      "\n",
      "Deep: 6\n",
      "Decision Tree train: 0.8195020746887967\n",
      "Decision Tree valid: 0.7838258164852255\n",
      "\n",
      "Deep: 7\n",
      "Decision Tree train: 0.8283195020746889\n",
      "Decision Tree valid: 0.7900466562986003\n",
      "\n",
      "Deep: 8\n",
      "Decision Tree train: 0.841804979253112\n",
      "Decision Tree valid: 0.7853810264385692\n",
      "\n",
      "Deep: 9\n",
      "Decision Tree train: 0.8521784232365145\n",
      "Decision Tree valid: 0.7838258164852255\n",
      "\n"
     ]
    }
   ],
   "source": [
    "for deep in range(1,10):\n",
    "    tree_model = DecisionTreeClassifier(max_depth=deep, random_state=123)\n",
    "    tree_model.fit(features_train, target_train)\n",
    "    \n",
    "    prediction = tree_model.predict(features_val)\n",
    "    \n",
    "    train_score = tree_model.score(features_train, target_train)\n",
    "    score = tree_model.score(features_val, target_val)\n",
    "    \n",
    "    print('Deep: {}'.format(deep))\n",
    "    print('Decision Tree train: {}'.format(train_score))\n",
    "    print('Decision Tree valid: {}'.format(score))\n",
    "    print()"
   ]
  },
  {
   "cell_type": "code",
   "execution_count": 126,
   "metadata": {},
   "outputs": [
    {
     "name": "stdout",
     "output_type": "stream",
     "text": [
      "{'max_depth': 4}\n"
     ]
    }
   ],
   "source": [
    "tree_param_grid = {'max_depth': [deep for deep in range(1, 10)]}\n",
    "tree_gs = GridSearchCV(DecisionTreeClassifier(random_state=123), param_grid=tree_param_grid)\n",
    "\n",
    "tree_gs.fit(features_train, target_train)\n",
    "\n",
    "print(tree_gs.best_params_)"
   ]
  },
  {
   "cell_type": "code",
   "execution_count": 127,
   "metadata": {},
   "outputs": [
    {
     "name": "stdout",
     "output_type": "stream",
     "text": [
      "Decision Tree train: 0.8091286307053942\n",
      "Decision Tree valid: 0.7838258164852255\n"
     ]
    }
   ],
   "source": [
    "tree_predict = tree_gs.predict(features_val_test)\n",
    "\n",
    "tree_train_score = tree_gs.score(features_train, target_train)\n",
    "tree_score = tree_gs.score(features_val, target_val)\n",
    "print('Decision Tree train: {}'.format(tree_train_score))\n",
    "print('Decision Tree valid: {}'.format(tree_score))"
   ]
  },
  {
   "cell_type": "markdown",
   "metadata": {},
   "source": [
    "При ручном переборе максимальной глубины дерева, мы можем заметить, что чем глубже дерево, тем метрики этой модели лучше, но это так же это может означать что у модели происходит переобучение. Поэтому мы можем использовать GridSearchCV для выбора лучших гиперпараметров для нашей модели. Для дальнейшего выбора модели лучше использовать GridSearchCV."
   ]
  },
  {
   "cell_type": "markdown",
   "metadata": {},
   "source": [
    "### Исследование модели случайного леса"
   ]
  },
  {
   "cell_type": "markdown",
   "metadata": {},
   "source": [
    "Так как модель случайного леса состоит из множества деревьев решений мы будем менять параметр max_depth, как в прошлый раз, а так же n_estimators."
   ]
  },
  {
   "cell_type": "code",
   "execution_count": 128,
   "metadata": {},
   "outputs": [
    {
     "name": "stdout",
     "output_type": "stream",
     "text": [
      "{'max_depth': 6, 'n_estimators': 100}\n"
     ]
    }
   ],
   "source": [
    "forest_param_grid = {'max_depth': [deep for deep in range(2, 16, 2)],\n",
    "                    'n_estimators': [50, 100, 150]}\n",
    "forest_gs = GridSearchCV(RandomForestClassifier(random_state=123), param_grid=forest_param_grid)\n",
    "forest_gs.fit(features_train, target_train)\n",
    "\n",
    "print(forest_gs.best_params_)"
   ]
  },
  {
   "cell_type": "code",
   "execution_count": 129,
   "metadata": {},
   "outputs": [
    {
     "name": "stdout",
     "output_type": "stream",
     "text": [
      "Random Forest train: 0.8257261410788381\n",
      "Random Forest valid: 0.7962674961119751\n"
     ]
    }
   ],
   "source": [
    "forest_predict = forest_gs.predict(feaures_val)\n",
    "\n",
    "forest_train_score = forest_gs.score(features_train, target_train)\n",
    "forest_score = forest_gs.score(features_val, target_val)\n",
    "\n",
    "print('Random Forest train: {}'.format(forest_train_score))\n",
    "print('Random Forest valid: {}'.format(forest_score))"
   ]
  },
  {
   "cell_type": "markdown",
   "metadata": {},
   "source": [
    "Хоть мы и передали гиперпараметры для глубины от 2 до 16 с шагом 2 значения, лучше всего для модели подошло значение 6, а количество деревьев так и вовсе 100 достаточно, так что больше - не значит лучше. Хоть этот метод и медленее, но это модель точнее, чем просто дерево."
   ]
  },
  {
   "cell_type": "markdown",
   "metadata": {},
   "source": [
    "### Исследование модели логистической регрессии"
   ]
  },
  {
   "cell_type": "code",
   "execution_count": 130,
   "metadata": {},
   "outputs": [
    {
     "name": "stdout",
     "output_type": "stream",
     "text": [
      "{'C': 1.0}\n"
     ]
    }
   ],
   "source": [
    "logistic_param_grid = {'C': [1.0, 0.5, 0.1]}\n",
    "logistic_gs = GridSearchCV(LogisticRegression(random_state=123), param_grid=logistic_param_grid)\n",
    "logistic_gs.fit(features_train, target_train)\n",
    "\n",
    "print(logistic_gs.best_params_)"
   ]
  },
  {
   "cell_type": "code",
   "execution_count": 131,
   "metadata": {},
   "outputs": [
    {
     "name": "stdout",
     "output_type": "stream",
     "text": [
      "Logistic Regression train: 0.6986514522821576\n",
      "Logistic Regression valid: 0.6967340590979783\n"
     ]
    }
   ],
   "source": [
    "logistic_predict = logistic_gs.predict(feaures_val)\n",
    "\n",
    "logistic_train_score = logistic_gs.score(features_train, target_train)\n",
    "logistic_score = logistic_gs.score(features_val, target_val)\n",
    "\n",
    "print('Logistic Regression train: {}'.format(logistic_train_score))\n",
    "print('Logistic Regression valid: {}'.format(logistic_score))"
   ]
  },
  {
   "cell_type": "markdown",
   "metadata": {},
   "source": [
    "При разных значения регуляризации, лучшим оказалось значение 1. Это модель гораздо быстрее остальных, но она получилась наименее точной."
   ]
  },
  {
   "cell_type": "markdown",
   "metadata": {},
   "source": [
    "**Вывод:** Так как модель дерева решений это частный случай модели случайного леса, мы можем сразу её отбросить, так как несколько деревьев лучше одного. Модель логистической регресии мы отбрасываем из-за недостаточной точности, хоть она и быстрее остальных. Таким образом остается модель случайного леса с максимальной глубинной дерева 10 и 50 деревьев."
   ]
  },
  {
   "cell_type": "markdown",
   "metadata": {},
   "source": [
    "## Проверка качества модели на тестовой выборке"
   ]
  },
  {
   "cell_type": "code",
   "execution_count": 132,
   "metadata": {},
   "outputs": [],
   "source": [
    "X_train, X_test, y_train, y_test = train_test_split(features, targets, test_size=0.2, stratify=targets, random_state=123)\n"
   ]
  },
  {
   "cell_type": "code",
   "execution_count": 133,
   "metadata": {},
   "outputs": [],
   "source": [
    "forest_model = RandomForestClassifier(max_depth = 6, n_estimators= 100, random_state=123)\n",
    "forest_model.fit(X_train, y_train)\n",
    "prediction = forest_model.predict(X_test)"
   ]
  },
  {
   "cell_type": "code",
   "execution_count": 134,
   "metadata": {},
   "outputs": [
    {
     "name": "stdout",
     "output_type": "stream",
     "text": [
      "Random Forest valid: 0.7900466562986003\n",
      "              precision    recall  f1-score   support\n",
      "\n",
      "           0       0.80      0.94      0.86       446\n",
      "           1       0.77      0.46      0.57       197\n",
      "\n",
      "    accuracy                           0.79       643\n",
      "   macro avg       0.78      0.70      0.72       643\n",
      "weighted avg       0.79      0.79      0.77       643\n",
      "\n"
     ]
    }
   ],
   "source": [
    "forest_test_score = forest_gs.score(X_test, y_test)\n",
    "print('Random Forest valid: {}'.format(forest_test_score))\n",
    "print(classification_report(y_test, prediction))"
   ]
  },
  {
   "cell_type": "markdown",
   "metadata": {},
   "source": [
    "Мы создали модель случайного леса с нужными нам гиперпараметрами, обучили её и получили accurancy 79%. Так же видно, что точность в разных классах сбалансирована и модель не отдает предпочтение какому-то конкректному классу. "
   ]
  },
  {
   "cell_type": "markdown",
   "metadata": {},
   "source": [
    "## Попытка проверки модели на вменяемость"
   ]
  },
  {
   "cell_type": "code",
   "execution_count": 135,
   "metadata": {},
   "outputs": [
    {
     "name": "stdout",
     "output_type": "stream",
     "text": [
      "Dummy score: 0.6936236391912908\n",
      "Random Forest score: 0.7900466562986003\n"
     ]
    }
   ],
   "source": [
    "dclf = DummyClassifier(strategy = 'most_frequent', random_state = 123) \n",
    "dclf.fit(X_train, y_train)\n",
    "\n",
    "print('Dummy score: {}'.format(dclf.score(X_test, y_test)))\n",
    "print('Random Forest score: {}'.format(forest_test_score))"
   ]
  },
  {
   "cell_type": "markdown",
   "metadata": {},
   "source": [
    "Как видно из accurency наша модель всё же предсказывает лучше данные, чем наша Dummy модель, поэтому нашу модель можно считать вменяемой. "
   ]
  },
  {
   "cell_type": "markdown",
   "metadata": {},
   "source": [
    "## Вывод"
   ]
  },
  {
   "cell_type": "markdown",
   "metadata": {},
   "source": [
    "В ходе проекта мы рассмотрели возможности разных модели, а так же выяснили, что разные гиперпараметры по разному влияют на точность предсказывания той или иной модели. Испробовав разные модели, а именно дерево решений, случайный лес и логистическую регрессию - моделью с самым большим accuracy оказалася случайный лес с глубиной дерева 6 и 100 деревьев. Эти гиперпарметры помогли нам достичь точности в 79% на тестовой выборке. Так же мы убедились, что наша модель вменяема сравнив accuracy нашей модели с Dummy моделью."
   ]
  },
  {
   "cell_type": "code",
   "execution_count": null,
   "metadata": {},
   "outputs": [],
   "source": []
  }
 ],
 "metadata": {
  "kernelspec": {
   "display_name": "Python 3",
   "language": "python",
   "name": "python3"
  },
  "language_info": {
   "codemirror_mode": {
    "name": "ipython",
    "version": 3
   },
   "file_extension": ".py",
   "mimetype": "text/x-python",
   "name": "python",
   "nbconvert_exporter": "python",
   "pygments_lexer": "ipython3",
   "version": "3.7.6"
  }
 },
 "nbformat": 4,
 "nbformat_minor": 4
}
