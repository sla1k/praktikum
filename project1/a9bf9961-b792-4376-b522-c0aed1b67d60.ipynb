{
 "cells": [
  {
   "cell_type": "markdown",
   "metadata": {},
   "source": [
    "## Исследование надёжности заёмщиков\n",
    "\n",
    "Заказчик — кредитный отдел банка. Нужно разобраться, влияет ли семейное положение и количество детей клиента на факт погашения кредита в срок. Входные данные от банка — статистика о платёжеспособности клиентов.\n",
    "\n",
    "Результаты исследования будут учтены при построении модели **кредитного скоринга** — специальной системы, которая оценивает способность потенциального заёмщика вернуть кредит банку."
   ]
  },
  {
   "cell_type": "markdown",
   "metadata": {},
   "source": [
    "### Шаг 1. Откройте файл с данными и изучите общую информацию. "
   ]
  },
  {
   "cell_type": "code",
   "execution_count": 2,
   "metadata": {},
   "outputs": [
    {
     "output_type": "stream",
     "name": "stdout",
     "text": "<class 'pandas.core.frame.DataFrame'>\nRangeIndex: 21525 entries, 0 to 21524\nData columns (total 12 columns):\n #   Column            Non-Null Count  Dtype  \n---  ------            --------------  -----  \n 0   children          21525 non-null  int64  \n 1   days_employed     19351 non-null  float64\n 2   dob_years         21525 non-null  int64  \n 3   education         21525 non-null  object \n 4   education_id      21525 non-null  int64  \n 5   family_status     21525 non-null  object \n 6   family_status_id  21525 non-null  int64  \n 7   gender            21525 non-null  object \n 8   income_type       21525 non-null  object \n 9   debt              21525 non-null  int64  \n 10  total_income      19351 non-null  float64\n 11  purpose           21525 non-null  object \ndtypes: float64(2), int64(5), object(5)\nmemory usage: 2.0+ MB\n\nКоличество пустых строк:\nchildren            2174\ndays_employed          0\ndob_years           2174\neducation           2174\neducation_id        2174\nfamily_status       2174\nfamily_status_id    2174\ngender              2174\nincome_type         2174\ndebt                2174\ntotal_income           0\npurpose             2174\ndtype: int64\n\nОбщий трудовой стаж в днях min: -18388.949900568383; max: 401755.40047533\n\nКоличество детей:\n 0     14149\n 1      4818\n 2      2055\n 3       330\n 20       76\n-1        47\n 4        41\n 5         9\nName: children, dtype: int64\n\nВозраст:\n35    617\n40    609\n41    607\n34    603\n38    598\n42    597\n33    581\n39    573\n31    560\n36    555\n44    547\n29    545\n30    540\n48    538\n37    537\n50    514\n43    513\n32    510\n49    508\n28    503\n45    497\n27    493\n56    487\n52    484\n47    480\n54    479\n46    475\n58    461\n57    460\n53    459\n51    448\n59    444\n55    443\n26    408\n60    377\n25    357\n61    355\n62    352\n63    269\n64    265\n24    264\n23    254\n65    194\n66    183\n22    183\n67    167\n21    111\n0     101\n68     99\n69     85\n70     65\n71     58\n20     51\n72     33\n19     14\n73      8\n74      6\n75      1\nName: dob_years, dtype: int64\n\nПол:\nF      14236\nM       7288\nXNA        1\nName: gender, dtype: int64\n"
    }
   ],
   "source": [
    "import pandas as pd\n",
    "\n",
    "df = pd.read_csv('./data.csv')\n",
    "df.info()\n",
    "print('')\n",
    "print('Количество пустых строк:')\n",
    "print(df[df['total_income'].isnull() | df['days_employed'].isnull()].count())\n",
    "print('')\n",
    "print('Общий трудовой стаж в днях min: {}; max: {}'.format(df['days_employed'].min(), df['days_employed'].max()))\n",
    "print('')\n",
    "print('Количество детей:')\n",
    "print(df['children'].value_counts())\n",
    "print('')\n",
    "print('Возраст:')\n",
    "print(df['dob_years'].value_counts())\n",
    "print('')\n",
    "print('Пол:')\n",
    "print(df['gender'].value_counts())"
   ]
  },
  {
   "cell_type": "markdown",
   "metadata": {},
   "source": [
    "### Вывод"
   ]
  },
  {
   "cell_type": "markdown",
   "metadata": {},
   "source": [
    "Имеется dataset с 21525 записями и 12 столбцами. Встречаются целочисленные данные, числа с плавающей точкой, а так же строковые данные. Столбец days_employed и total_income имеют пропуски. Столбец days_employed содержит не целочисленные и отрицательные числа, такие результаты являются программной ошибкой, ведь количество дней это неотрицательное целое число. Столбец children имеет невозможное минимальное(-1) и подозрительно часто встречающееся максимальное значение(20), вероятнее всего это человеческая ошибка, т.к. большая часть данных содержит правдивую информацию. В поле dob_years 101 запись с нулевым значением, вероятно часть пользователей не заполняло это поле. А в поле gender имеется артефакт XNA, который тоже указывает на человеческую ошибку, т.к. значение встречается один раз.\n",
    "\n",
    "Всё вышеперечисленное показывает нам, что поставщик данных предоставляет нам очень грязные данные, с ошибками и пропусками."
   ]
  },
  {
   "cell_type": "markdown",
   "metadata": {},
   "source": [
    "### Шаг 2. Предобработка данных"
   ]
  },
  {
   "cell_type": "markdown",
   "metadata": {},
   "source": [
    "### Обработка пропусков"
   ]
  },
  {
   "cell_type": "code",
   "execution_count": 3,
   "metadata": {},
   "outputs": [
    {
     "output_type": "stream",
     "name": "stdout",
     "text": "<class 'pandas.core.frame.DataFrame'>\nRangeIndex: 21525 entries, 0 to 21524\nData columns (total 12 columns):\n #   Column            Non-Null Count  Dtype  \n---  ------            --------------  -----  \n 0   children          21525 non-null  int64  \n 1   days_employed     19351 non-null  float64\n 2   dob_years         21525 non-null  int64  \n 3   education         21525 non-null  object \n 4   education_id      21525 non-null  int64  \n 5   family_status     21525 non-null  object \n 6   family_status_id  21525 non-null  int64  \n 7   gender            21525 non-null  object \n 8   income_type       21525 non-null  object \n 9   debt              21525 non-null  int64  \n 10  total_income      19351 non-null  float64\n 11  purpose           21525 non-null  object \ndtypes: float64(2), int64(5), object(5)\nmemory usage: 2.0+ MB\n\n<class 'pandas.core.frame.DataFrame'>\nRangeIndex: 21525 entries, 0 to 21524\nData columns (total 12 columns):\n #   Column            Non-Null Count  Dtype  \n---  ------            --------------  -----  \n 0   children          21525 non-null  int64  \n 1   days_employed     21525 non-null  float64\n 2   dob_years         21525 non-null  int64  \n 3   education         21525 non-null  object \n 4   education_id      21525 non-null  int64  \n 5   family_status     21525 non-null  object \n 6   family_status_id  21525 non-null  int64  \n 7   gender            21525 non-null  object \n 8   income_type       21525 non-null  object \n 9   debt              21525 non-null  int64  \n 10  total_income      19351 non-null  float64\n 11  purpose           21525 non-null  object \ndtypes: float64(2), int64(5), object(5)\nmemory usage: 2.0+ MB\n\nсотрудник          1105\nкомпаньон           508\nпенсионер           413\nгосслужащий         147\nпредприниматель       1\nName: income_type, dtype: int64\n\n<class 'pandas.core.frame.DataFrame'>\nRangeIndex: 21525 entries, 0 to 21524\nData columns (total 12 columns):\n #   Column            Non-Null Count  Dtype  \n---  ------            --------------  -----  \n 0   children          21525 non-null  int64  \n 1   days_employed     21525 non-null  float64\n 2   dob_years         21525 non-null  int64  \n 3   education         21525 non-null  object \n 4   education_id      21525 non-null  int64  \n 5   family_status     21525 non-null  object \n 6   family_status_id  21525 non-null  int64  \n 7   gender            21525 non-null  object \n 8   income_type       21525 non-null  object \n 9   debt              21525 non-null  int64  \n 10  total_income      21525 non-null  float64\n 11  purpose           21525 non-null  object \ndtypes: float64(2), int64(5), object(5)\nmemory usage: 2.0+ MB\n"
    }
   ],
   "source": [
    "df.info()\n",
    "df['days_employed'] = df['days_employed'].fillna(0)\n",
    "print('')\n",
    "df.info()\n",
    "print('')\n",
    "print(df[df['total_income'].isnull()]['income_type'].value_counts())\n",
    "print('')\n",
    "income_types = df[df['total_income'].isnull()]['income_type'].unique()\n",
    "\n",
    "for income_type in income_types:\n",
    "    try:\n",
    "        total_income_median = df[df['income_type'] == income_type]['total_income'].median()\n",
    "        df.loc[df['income_type'] == income_type, 'total_income'] = df.loc[df['income_type'] == income_type, 'total_income'].fillna(total_income_median)\n",
    "    except:\n",
    "        print('Что-то пошло не так.')\n",
    "\n",
    "df.info()"
   ]
  },
  {
   "cell_type": "markdown",
   "metadata": {},
   "source": [
    "### Вывод"
   ]
  },
  {
   "cell_type": "markdown",
   "metadata": {},
   "source": [
    "10% данных имеют пустые значения, это большой процент, поэтому просто удалить эти данные мы не можем, вероятнее всего это програмнная ошибка поставщика данных, либо эти данные сознательно не были указаны пользователями. Столбец days_employed не требуется для ответов на поставленные в проекте вопросы, поэтому мы можем выставить в этом столбце 0 для всех пустых значений. А для total_income мы выберем медианные значения относительно рода деятельности."
   ]
  },
  {
   "cell_type": "markdown",
   "metadata": {},
   "source": [
    "### Замена типа данных"
   ]
  },
  {
   "cell_type": "code",
   "execution_count": 4,
   "metadata": {},
   "outputs": [
    {
     "output_type": "stream",
     "name": "stdout",
     "text": "<class 'pandas.core.frame.DataFrame'>\nRangeIndex: 21525 entries, 0 to 21524\nData columns (total 12 columns):\n #   Column            Non-Null Count  Dtype  \n---  ------            --------------  -----  \n 0   children          21525 non-null  int64  \n 1   days_employed     21525 non-null  float64\n 2   dob_years         21525 non-null  int64  \n 3   education         21525 non-null  object \n 4   education_id      21525 non-null  int64  \n 5   family_status     21525 non-null  object \n 6   family_status_id  21525 non-null  int64  \n 7   gender            21525 non-null  object \n 8   income_type       21525 non-null  object \n 9   debt              21525 non-null  int64  \n 10  total_income      21525 non-null  int64  \n 11  purpose           21525 non-null  object \ndtypes: float64(1), int64(6), object(5)\nmemory usage: 2.0+ MB\n"
    }
   ],
   "source": [
    "df['total_income'] = df['total_income'].astype('int')\n",
    "df.info()"
   ]
  },
  {
   "cell_type": "markdown",
   "metadata": {},
   "source": [
    "### Вывод"
   ]
  },
  {
   "cell_type": "markdown",
   "metadata": {},
   "source": [
    "Для удобство, быстроты и корректности вычеслений мы приводим столбец total_income к целочисленному типу с помощью метода .astype('int)"
   ]
  },
  {
   "cell_type": "markdown",
   "metadata": {},
   "source": [
    "### Обработка дубликатов"
   ]
  },
  {
   "cell_type": "code",
   "execution_count": 5,
   "metadata": {},
   "outputs": [
    {
     "output_type": "stream",
     "name": "stdout",
     "text": "среднее                13750\nвысшее                  4718\nСРЕДНЕЕ                  772\nСреднее                  711\nнеоконченное высшее      668\nВЫСШЕЕ                   274\nВысшее                   268\nначальное                250\nНеоконченное высшее       47\nНЕОКОНЧЕННОЕ ВЫСШЕЕ       29\nНАЧАЛЬНОЕ                 17\nНачальное                 15\nученая степень             4\nУЧЕНАЯ СТЕПЕНЬ             1\nУченая степень             1\nName: education, dtype: int64\n\nсреднее                15233\nвысшее                  5260\nнеоконченное высшее      744\nначальное                282\nученая степень             6\nName: education, dtype: int64\n"
    },
    {
     "output_type": "execute_result",
     "data": {
      "text/plain": "71"
     },
     "metadata": {},
     "execution_count": 5
    }
   ],
   "source": [
    "print(df['education'].value_counts())\n",
    "df['education'] = df['education'].str.lower()\n",
    "print('')\n",
    "print(df['education'].value_counts())\n",
    "df.duplicated().sum()\n",
    "\n",
    "df.drop_duplicates().reset_index(drop=True)\n",
    "df.duplicated().sum()"
   ]
  },
  {
   "cell_type": "markdown",
   "metadata": {},
   "source": [
    "### Вывод"
   ]
  },
  {
   "cell_type": "markdown",
   "metadata": {},
   "source": [
    "Прежде чем искать дубликаты, надо проверить, что все строковые значения записаны в одном регистре, для этого мы используем .value_counts(), который показывает нам что в столбце education есть одинаковые значения, но записанные в разном регистре. После привидения к единному регистру с помощью метода .duplicated() мы находим 71 дубликат, которые мы удаляем с помощью .drop_dplicates() и затем сбрассываем индекс df."
   ]
  },
  {
   "cell_type": "markdown",
   "metadata": {},
   "source": [
    "### Лемматизация"
   ]
  },
  {
   "cell_type": "code",
   "execution_count": 6,
   "metadata": {},
   "outputs": [],
   "source": [
    "from pymystem3 import Mystem\n",
    "\n",
    "m = Mystem()\n",
    "\n",
    "def lemmatize_purpose(row):\n",
    "    return m.lemmatize(row['purpose'])\n",
    "\n",
    "df['purpose_lemmatized'] = df.apply(lemmatize_purpose, axis = 1)"
   ]
  },
  {
   "cell_type": "markdown",
   "metadata": {},
   "source": [
    "### Вывод"
   ]
  },
  {
   "cell_type": "markdown",
   "metadata": {},
   "source": [
    "Для лемматизации столбца purpose была использована библиотека pymystem3. Чтобы провести лемматизацию по всему столбцу была написана функция lemmatize_purpose которая принимает на вход строку и возвращает список лемм, которые вставляются в новый столбец purpose_lemmatized.\n"
   ]
  },
  {
   "cell_type": "markdown",
   "metadata": {},
   "source": [
    "### Категоризация данных"
   ]
  },
  {
   "cell_type": "code",
   "execution_count": 7,
   "metadata": {},
   "outputs": [
    {
     "output_type": "stream",
     "name": "stdout",
     "text": "Counter({' ': 33677, '\\n': 21525, 'недвижимость': 6367, 'покупка': 5912, 'жилье': 4473, 'автомобиль': 4315, 'образование': 4022, 'с': 2924, 'операция': 2610, 'свадьба': 2348, 'свой': 2235, 'на': 2233, 'строительство': 1881, 'высокий': 1375, 'получение': 1316, 'коммерческий': 1315, 'для': 1294, 'жилой': 1233, 'сделка': 944, 'дополнительный': 909, 'заниматься': 908, 'проведение': 777, 'сыграть': 774, 'сдача': 653, 'семья': 641, 'собственный': 635, 'со': 630, 'ремонт': 612, 'подержанный': 489, 'подержать': 479, 'приобретение': 462, 'профильный': 436})\n"
    },
    {
     "output_type": "execute_result",
     "data": {
      "text/plain": "недвижимость    10840\nавтомобиль       4315\nобразование      4022\nсвадьба          2348\nName: purpose_category, dtype: int64"
     },
     "metadata": {},
     "execution_count": 7
    }
   ],
   "source": [
    "from collections import Counter\n",
    "\n",
    "all_lemmas = df['purpose_lemmatized'].sum()\n",
    "print(Counter(all_lemmas))\n",
    "\n",
    "def purpose_category(row):\n",
    "    if 'недвижимость' in row['purpose_lemmatized'] or 'жилье' in row['purpose_lemmatized']:\n",
    "        return 'недвижимость'\n",
    "    if 'автомобиль' in row['purpose_lemmatized']:\n",
    "        return 'автомобиль'\n",
    "    if 'образование' in row['purpose_lemmatized']:\n",
    "        return 'образование'\n",
    "    if 'операция' in row['purpose_lemmatized']:\n",
    "        return 'операция'\n",
    "    if 'свадьба' in row['purpose_lemmatized']:\n",
    "        return 'свадьба'\n",
    "    if 'строительство' in row['purpose_lemmatized'] or 'ремонт' in row['purpose_lemmatized']:\n",
    "        return 'строительство'\n",
    "    return 'прочее'\n",
    "\n",
    "df['purpose_category'] = df.apply(purpose_category, axis = 1)\n",
    "df['purpose_category'].value_counts()"
   ]
  },
  {
   "cell_type": "markdown",
   "metadata": {},
   "source": [
    "### Вывод"
   ]
  },
  {
   "cell_type": "markdown",
   "metadata": {},
   "source": [
    "Выделяем список категорий на основе часто встречающихся слов в лемматизированном столбце и устанавливаем категорию с помощью метода purpose_category, который проверяет наличие слова в словаре лемм в столбце purpose_lemmatized."
   ]
  },
  {
   "cell_type": "markdown",
   "metadata": {},
   "source": [
    "### Шаг 3. Ответьте на вопросы"
   ]
  },
  {
   "cell_type": "markdown",
   "metadata": {},
   "source": [
    "- Есть ли зависимость между наличием детей и возвратом кредита в срок?"
   ]
  },
  {
   "cell_type": "code",
   "execution_count": 8,
   "metadata": {},
   "outputs": [
    {
     "output_type": "error",
     "ename": "NameError",
     "evalue": "name 'df_with_children' is not defined",
     "traceback": [
      "\u001b[0;31m---------------------------------------------------------------------------\u001b[0m",
      "\u001b[0;31mNameError\u001b[0m                                 Traceback (most recent call last)",
      "\u001b[0;32m<ipython-input-8-1c98bf5a617d>\u001b[0m in \u001b[0;36m<module>\u001b[0;34m\u001b[0m\n\u001b[1;32m      1\u001b[0m \u001b[0mdf_with_childrens\u001b[0m \u001b[0;34m=\u001b[0m \u001b[0mdf\u001b[0m\u001b[0;34m[\u001b[0m\u001b[0mdf\u001b[0m\u001b[0;34m[\u001b[0m\u001b[0;34m'children'\u001b[0m\u001b[0;34m]\u001b[0m \u001b[0;34m>\u001b[0m \u001b[0;36m0\u001b[0m\u001b[0;34m]\u001b[0m\u001b[0;34m\u001b[0m\u001b[0;34m\u001b[0m\u001b[0m\n\u001b[0;32m----> 2\u001b[0;31m \u001b[0mtotal_with_childrens\u001b[0m \u001b[0;34m=\u001b[0m \u001b[0mdf_with_children\u001b[0m\u001b[0;34m.\u001b[0m\u001b[0mshape\u001b[0m\u001b[0;34m[\u001b[0m\u001b[0;36m0\u001b[0m\u001b[0;34m]\u001b[0m\u001b[0;34m\u001b[0m\u001b[0;34m\u001b[0m\u001b[0m\n\u001b[0m\u001b[1;32m      3\u001b[0m \u001b[0mtotal_with_childrens_and_debt\u001b[0m \u001b[0;34m=\u001b[0m \u001b[0mdf_with_childrens\u001b[0m\u001b[0;34m[\u001b[0m\u001b[0mdf_with_childrens\u001b[0m\u001b[0;34m[\u001b[0m\u001b[0;34m'debt'\u001b[0m\u001b[0;34m]\u001b[0m \u001b[0;34m==\u001b[0m \u001b[0;36m1\u001b[0m\u001b[0;34m]\u001b[0m\u001b[0;34m.\u001b[0m\u001b[0mshape\u001b[0m\u001b[0;34m[\u001b[0m\u001b[0;36m0\u001b[0m\u001b[0;34m]\u001b[0m\u001b[0;34m\u001b[0m\u001b[0;34m\u001b[0m\u001b[0m\n\u001b[1;32m      4\u001b[0m \u001b[0mprint\u001b[0m\u001b[0;34m(\u001b[0m\u001b[0;34m'Процент людей с детьми, имеющие задолжность: {:.2%}'\u001b[0m\u001b[0;34m.\u001b[0m\u001b[0mformat\u001b[0m\u001b[0;34m(\u001b[0m\u001b[0mtotal_with_childrens_and_debt\u001b[0m \u001b[0;34m/\u001b[0m \u001b[0mtotal_with_childrens\u001b[0m\u001b[0;34m)\u001b[0m\u001b[0;34m)\u001b[0m\u001b[0;34m\u001b[0m\u001b[0;34m\u001b[0m\u001b[0m\n\u001b[1;32m      5\u001b[0m \u001b[0;34m\u001b[0m\u001b[0m\n",
      "\u001b[0;31mNameError\u001b[0m: name 'df_with_children' is not defined"
     ]
    }
   ],
   "source": [
    "df_with_childrens = df[df['children'] > 0]\n",
    "total_with_childrens = df_with_children.shape[0]\n",
    "total_with_childrens_and_debt = df_with_childrens[df_with_childrens['debt'] == 1].shape[0]\n",
    "print('Процент людей с детьми, имеющие задолжность: {:.2%}'.format(total_with_childrens_and_debt / total_with_childrens))\n",
    "\n",
    "print('')\n",
    "df_without_childrens = df[df['children'] < 1]\n",
    "total_without_childrens = df_without_childrens.shape[0]\n",
    "total_without_childrens_and_debt = df_without_childrens[df_without_childrens['debt'] == 1].shape[0]\n",
    "print('Процент людей без детей, имеющие задолжность: {:.2%}'.format(total_without_childrens_and_debt / total_without_childrens))"
   ]
  },
  {
   "cell_type": "markdown",
   "metadata": {},
   "source": [
    "### Вывод"
   ]
  },
  {
   "cell_type": "markdown",
   "metadata": {},
   "source": [
    "Есть связь между наличием детей и возвратом кредита в срок: процент людей с детьми имеющих задолженность больше, чем людей с задолженностью без детей, но этот процент не настолько занчительный как предпологалось ранее."
   ]
  },
  {
   "cell_type": "markdown",
   "metadata": {},
   "source": [
    "- Есть ли зависимость между семейным положением и возвратом кредита в срок?"
   ]
  },
  {
   "cell_type": "code",
   "execution_count": 9,
   "metadata": {},
   "outputs": [
    {
     "output_type": "execute_result",
     "data": {
      "text/plain": "                       sum  count      mean\nfamily_status                              \nНе женат / не замужем  274   2813  0.097405\nв разводе               85   1195  0.071130\nвдовец / вдова          63    960  0.065625\nгражданский брак       388   4177  0.092890\nженат / замужем        931  12380  0.075202",
      "text/html": "<div>\n<style scoped>\n    .dataframe tbody tr th:only-of-type {\n        vertical-align: middle;\n    }\n\n    .dataframe tbody tr th {\n        vertical-align: top;\n    }\n\n    .dataframe thead th {\n        text-align: right;\n    }\n</style>\n<table border=\"1\" class=\"dataframe\">\n  <thead>\n    <tr style=\"text-align: right;\">\n      <th></th>\n      <th>sum</th>\n      <th>count</th>\n      <th>mean</th>\n    </tr>\n    <tr>\n      <th>family_status</th>\n      <th></th>\n      <th></th>\n      <th></th>\n    </tr>\n  </thead>\n  <tbody>\n    <tr>\n      <th>Не женат / не замужем</th>\n      <td>274</td>\n      <td>2813</td>\n      <td>0.097405</td>\n    </tr>\n    <tr>\n      <th>в разводе</th>\n      <td>85</td>\n      <td>1195</td>\n      <td>0.071130</td>\n    </tr>\n    <tr>\n      <th>вдовец / вдова</th>\n      <td>63</td>\n      <td>960</td>\n      <td>0.065625</td>\n    </tr>\n    <tr>\n      <th>гражданский брак</th>\n      <td>388</td>\n      <td>4177</td>\n      <td>0.092890</td>\n    </tr>\n    <tr>\n      <th>женат / замужем</th>\n      <td>931</td>\n      <td>12380</td>\n      <td>0.075202</td>\n    </tr>\n  </tbody>\n</table>\n</div>"
     },
     "metadata": {},
     "execution_count": 9
    }
   ],
   "source": [
    "df.groupby('family_status')['debt'].agg(['sum', 'count', 'mean'])"
   ]
  },
  {
   "cell_type": "markdown",
   "metadata": {},
   "source": [
    "### Вывод"
   ]
  },
  {
   "cell_type": "markdown",
   "metadata": {},
   "source": [
    "С помощью группировки и метода .agg(['sum', 'count', 'mean']) мы смогли получить количество должников в группе, количество человек в группе, а mean показывает процент должников в группе. Зависимость между семейным положением и возвратом кредита в срок есть, но разница также незначительна, как в случае с наличием или отсутсвием детей."
   ]
  },
  {
   "cell_type": "markdown",
   "metadata": {},
   "source": [
    "- Есть ли зависимость между уровнем дохода и возвратом кредита в срок?"
   ]
  },
  {
   "cell_type": "code",
   "execution_count": 10,
   "metadata": {},
   "outputs": [
    {
     "output_type": "stream",
     "name": "stdout",
     "text": "(195549.0, 2265604.0]    5381\n(142594.0, 195549.0]     5239\n(107798.0, 142594.0]     5523\n(20666.999, 107798.0]    5382\nName: total_income, dtype: int64\n"
    },
    {
     "output_type": "execute_result",
     "data": {
      "text/plain": "               sum  count      mean\nincome_level                       \nвыше среднего  386   5381  0.071734\nниже среднего  483   5523  0.087452\nнизкий         427   5382  0.079339\nсредний        445   5239  0.084940",
      "text/html": "<div>\n<style scoped>\n    .dataframe tbody tr th:only-of-type {\n        vertical-align: middle;\n    }\n\n    .dataframe tbody tr th {\n        vertical-align: top;\n    }\n\n    .dataframe thead th {\n        text-align: right;\n    }\n</style>\n<table border=\"1\" class=\"dataframe\">\n  <thead>\n    <tr style=\"text-align: right;\">\n      <th></th>\n      <th>sum</th>\n      <th>count</th>\n      <th>mean</th>\n    </tr>\n    <tr>\n      <th>income_level</th>\n      <th></th>\n      <th></th>\n      <th></th>\n    </tr>\n  </thead>\n  <tbody>\n    <tr>\n      <th>выше среднего</th>\n      <td>386</td>\n      <td>5381</td>\n      <td>0.071734</td>\n    </tr>\n    <tr>\n      <th>ниже среднего</th>\n      <td>483</td>\n      <td>5523</td>\n      <td>0.087452</td>\n    </tr>\n    <tr>\n      <th>низкий</th>\n      <td>427</td>\n      <td>5382</td>\n      <td>0.079339</td>\n    </tr>\n    <tr>\n      <th>средний</th>\n      <td>445</td>\n      <td>5239</td>\n      <td>0.084940</td>\n    </tr>\n  </tbody>\n</table>\n</div>"
     },
     "metadata": {},
     "execution_count": 10
    }
   ],
   "source": [
    "print(pd.qcut(df['total_income'], 4).value_counts().sort_index(ascending=False))\n",
    "\n",
    "def income_level(row):\n",
    "    total_income = row['total_income']\n",
    "    if total_income > 195549:\n",
    "        return 'выше среднего'\n",
    "    if 142594 < total_income <= 195549:\n",
    "        return 'средний'\n",
    "    if 107798 < total_income <= 142594:\n",
    "        return 'ниже среднего'\n",
    "    return 'низкий'\n",
    "\n",
    "df['income_level'] = df.apply(income_level, axis = 1)\n",
    "\n",
    "df.groupby('income_level')['debt'].agg(['sum', 'count', 'mean'])"
   ]
  },
  {
   "cell_type": "markdown",
   "metadata": {},
   "source": [
    "### Вывод"
   ]
  },
  {
   "cell_type": "markdown",
   "metadata": {},
   "source": [
    "Предварительно категоризовав столбец total_income, с помощью функции income_level(row) и метода apply(), мы получили уровни дохода income_level. Далее с помощью группировки по столбцу income_level и метода .agg(['sum', 'count', 'mean']) мы смогли получить количество должников в группе, количество человек в группе, а mean показывает процент должников в группе. Зависимость между уровнем дохода и возвратом кредита в срок есть, но разница также незначительна."
   ]
  },
  {
   "cell_type": "markdown",
   "metadata": {},
   "source": [
    "- Как разные цели кредита влияют на его возврат в срок?"
   ]
  },
  {
   "cell_type": "code",
   "execution_count": 18,
   "metadata": {},
   "outputs": [
    {
     "output_type": "execute_result",
     "data": {
      "text/plain": "                    count      mean    sum\npurpose_category                          \nавтомобиль         4315.0  0.093395  403.0\nнедвижимость      10840.0  0.072140  782.0\nобразование        4022.0  0.091994  370.0\nсвадьба            2348.0  0.079216  186.0",
      "text/html": "<div>\n<style scoped>\n    .dataframe tbody tr th:only-of-type {\n        vertical-align: middle;\n    }\n\n    .dataframe tbody tr th {\n        vertical-align: top;\n    }\n\n    .dataframe thead th {\n        text-align: right;\n    }\n</style>\n<table border=\"1\" class=\"dataframe\">\n  <thead>\n    <tr style=\"text-align: right;\">\n      <th></th>\n      <th>count</th>\n      <th>mean</th>\n      <th>sum</th>\n    </tr>\n    <tr>\n      <th>purpose_category</th>\n      <th></th>\n      <th></th>\n      <th></th>\n    </tr>\n  </thead>\n  <tbody>\n    <tr>\n      <th>автомобиль</th>\n      <td>4315.0</td>\n      <td>0.093395</td>\n      <td>403.0</td>\n    </tr>\n    <tr>\n      <th>недвижимость</th>\n      <td>10840.0</td>\n      <td>0.072140</td>\n      <td>782.0</td>\n    </tr>\n    <tr>\n      <th>образование</th>\n      <td>4022.0</td>\n      <td>0.091994</td>\n      <td>370.0</td>\n    </tr>\n    <tr>\n      <th>свадьба</th>\n      <td>2348.0</td>\n      <td>0.079216</td>\n      <td>186.0</td>\n    </tr>\n  </tbody>\n</table>\n</div>"
     },
     "metadata": {},
     "execution_count": 18
    }
   ],
   "source": [
    "df.pivot_table(index='purpose_category', values='debt', aggfunc={'sum', 'mean', 'count'})"
   ]
  },
  {
   "cell_type": "markdown",
   "metadata": {},
   "source": [
    "### Вывод"
   ]
  },
  {
   "cell_type": "markdown",
   "metadata": {},
   "source": [
    "С помощью сводной таблицы мы смогли получить количество должников в группе, количество человек в группе, а mean показывает процент должников в группе. Зависимость между целью кредита и возвратом кредита в срок есть, но разница также незначительна, как и в остальных случаях."
   ]
  },
  {
   "cell_type": "markdown",
   "metadata": {},
   "source": [
    "### Шаг 4. Общий вывод"
   ]
  },
  {
   "cell_type": "markdown",
   "metadata": {},
   "source": [
    "Проанализировав данные, мы наблюдаем, что семейное положение, количество детей, цель и доход влияют на факт погашения кредита, но влияют не значительно, во всех группах был разброс примерно в среднем по 2%."
   ]
  },
  {
   "cell_type": "markdown",
   "metadata": {},
   "source": [
    "### Чек-лист готовности проекта\n",
    "\n",
    "Поставьте 'x' в выполненных пунктах. Далее нажмите Shift+Enter."
   ]
  },
  {
   "cell_type": "markdown",
   "metadata": {},
   "source": [
    "- [x]  открыт файл;\n",
    "- [x]  файл изучен;\n",
    "- [x]  определены пропущенные значения;\n",
    "- [x]  заполнены пропущенные значения;\n",
    "- [x]  есть пояснение, какие пропущенные значения обнаружены;\n",
    "- [x]  описаны возможные причины появления пропусков в данных;\n",
    "- [x]  объяснено, по какому принципу заполнены пропуски;\n",
    "- [x]  заменен вещественный тип данных на целочисленный;\n",
    "- [x]  есть пояснение, какой метод используется для изменения типа данных и почему;\n",
    "- [x]  удалены дубликаты;\n",
    "- [x]  есть пояснение, какой метод используется для поиска и удаления дубликатов;\n",
    "- [x]  описаны возможные причины появления дубликатов в данных;\n",
    "- [x]  выделены леммы в значениях столбца с целями получения кредита;\n",
    "- [x]  описан процесс лемматизации;\n",
    "- [x]  данные категоризированы;\n",
    "- [x]  есть объяснение принципа категоризации данных;\n",
    "- [x]  есть ответ на вопрос: \"Есть ли зависимость между наличием детей и возвратом кредита в срок?\";\n",
    "- [x]  есть ответ на вопрос: \"Есть ли зависимость между семейным положением и возвратом кредита в срок?\";\n",
    "- [x]  есть ответ на вопрос: \"Есть ли зависимость между уровнем дохода и возвратом кредита в срок?\";\n",
    "- [x]  есть ответ на вопрос: \"Как разные цели кредита влияют на его возврат в срок?\";\n",
    "- [x]  в каждом этапе есть выводы;\n",
    "- [x]  есть общий вывод."
   ]
  },
  {
   "cell_type": "code",
   "execution_count": null,
   "metadata": {},
   "outputs": [],
   "source": []
  },
  {
   "cell_type": "code",
   "execution_count": null,
   "metadata": {},
   "outputs": [],
   "source": []
  },
  {
   "cell_type": "code",
   "execution_count": null,
   "metadata": {},
   "outputs": [],
   "source": []
  }
 ],
 "metadata": {
  "kernelspec": {
   "display_name": "Python 3",
   "language": "python",
   "name": "python3"
  },
  "language_info": {
   "codemirror_mode": {
    "name": "ipython",
    "version": 3
   },
   "file_extension": ".py",
   "mimetype": "text/x-python",
   "name": "python",
   "nbconvert_exporter": "python",
   "pygments_lexer": "ipython3",
   "version": "3.7.6-final"
  },
  "widgets": {
   "application/vnd.jupyter.widget-state+json": {
    "state": {},
    "version_major": 2,
    "version_minor": 0
   }
  }
 },
 "nbformat": 4,
 "nbformat_minor": 2
}