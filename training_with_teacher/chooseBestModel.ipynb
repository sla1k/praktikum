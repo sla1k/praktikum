{
 "cells": [
  {
   "cell_type": "code",
   "execution_count": 36,
   "metadata": {},
   "outputs": [],
   "source": [
    "import pandas as pd\n",
    "from sklearn.ensemble import RandomForestRegressor\n",
    "from sklearn.tree import DecisionTreeRegressor\n",
    "from sklearn.linear_model import LinearRegression\n",
    "from sklearn.metrics import mean_squared_error\n",
    "from sklearn.model_selection import train_test_split\n",
    "import joblib"
   ]
  },
  {
   "cell_type": "code",
   "execution_count": 37,
   "metadata": {
    "tags": []
   },
   "outputs": [],
   "source": [
    "df = pd.read_csv('datasets/best_choose_train_data.csv')\n",
    "\n",
    "df_train, df_valid = train_test_split(df, train_size=0.25, random_state=12345)\n",
    "\n",
    "features_train = df_train.drop('last_price', axis=1)\n",
    "target_train = df_train['last_price'] / 1000000\n",
    "\n",
    "features_valid = df_valid.drop('last_price', axis=1)\n",
    "target_valid = df_valid['last_price'] / 1000000\n",
    "\n",
    "rmse = 0"
   ]
  },
  {
   "cell_type": "code",
   "execution_count": 38,
   "metadata": {
    "tags": []
   },
   "outputs": [
    {
     "name": "stdout",
     "output_type": "stream",
     "text": [
      "RMSE дерева решений: 9.569773321657998\n"
     ]
    }
   ],
   "source": [
    "tree_model = DecisionTreeRegressor(random_state=12345)\n",
    "tree_model.fit(features_train, target_train)\n",
    "\n",
    "tree_predictions = tree_model.predict(features_valid)\n",
    "print('RMSE дерева решений:', mean_squared_error(target_valid, tree_predictions) ** 0.5)"
   ]
  },
  {
   "cell_type": "code",
   "execution_count": 39,
   "metadata": {
    "tags": []
   },
   "outputs": [
    {
     "name": "stdout",
     "output_type": "stream",
     "text": [
      "RMSE дерева решений: 10.26772252470273\n",
      "1\n",
      "\n",
      "RMSE дерева решений: 8.755600006140302\n",
      "3\n",
      "\n",
      "RMSE дерева решений: 8.554817290160242\n",
      "5\n",
      "\n",
      "RMSE дерева решений: 8.478772328623993\n",
      "7\n",
      "\n",
      "RMSE дерева решений: 8.362575202149992\n",
      "9\n",
      "\n",
      "RMSE дерева решений: 8.411956658581508\n",
      "11\n",
      "\n",
      "RMSE дерева решений: 8.344286831978424\n",
      "13\n",
      "\n",
      "RMSE дерева решений: 8.074799796424648\n",
      "15\n",
      "\n",
      "RMSE дерева решений: 8.082133393823343\n",
      "17\n",
      "\n",
      "RMSE дерева решений: 8.155827794966461\n",
      "19\n",
      "\n",
      "RMSE дерева решений: 8.200469836408523\n",
      "21\n",
      "\n",
      "RMSE дерева решений: 8.17585748705454\n",
      "23\n",
      "\n",
      "RMSE дерева решений: 8.095896905616241\n",
      "25\n",
      "\n",
      "RMSE дерева решений: 7.945666864743132\n",
      "27\n",
      "\n",
      "RMSE дерева решений: 8.008286950841653\n",
      "29\n",
      "\n"
     ]
    }
   ],
   "source": [
    "for n_estimator in range(1,30,2):\n",
    "    forest_model = RandomForestRegressor(n_estimators=n_estimator, random_state=12345)\n",
    "    forest_model.fit(features_train, target_train)\n",
    "\n",
    "    forest_predictions = forest_model.predict(features_valid)\n",
    "    print('RMSE дерева решений:', mean_squared_error(target_valid, forest_predictions) ** 0.5)\n",
    "    print(n_estimator)\n",
    "    print()"
   ]
  },
  {
   "cell_type": "code",
   "execution_count": 40,
   "metadata": {
    "tags": []
   },
   "outputs": [
    {
     "name": "stdout",
     "output_type": "stream",
     "text": [
      "RMSE дерева решений: 8.20030740584813\n"
     ]
    }
   ],
   "source": [
    "linear_model = LinearRegression()\n",
    "linear_model.fit(features_train, target_train)\n",
    "\n",
    "linear_predictions = linear_model.predict(features_valid)\n",
    "print('RMSE дерева решений:', mean_squared_error(target_valid, linear_predictions) ** 0.5)"
   ]
  },
  {
   "cell_type": "code",
   "execution_count": 41,
   "metadata": {
    "tags": []
   },
   "outputs": [
    {
     "name": "stdout",
     "output_type": "stream",
     "text": [
      "RMSE дерева решений: 3.113937179191609\n"
     ]
    }
   ],
   "source": [
    "features = df.drop('last_price', axis=1)\n",
    "target = df['last_price'] / 1000000\n",
    "\n",
    "model = RandomForestRegressor(n_estimators=27, random_state=12345)\n",
    "model.fit(features, target)\n",
    "\n",
    "predictions = model.predict(features)\n",
    "print('RMSE дерева решений:', mean_squared_error(target, predictions) ** 0.5)"
   ]
  },
  {
   "cell_type": "code",
   "execution_count": null,
   "metadata": {},
   "outputs": [],
   "source": [
    "joblib.dump(model, 'best_choose.joblib')"
   ]
  }
 ],
 "metadata": {
  "kernelspec": {
   "display_name": "Python 3",
   "language": "python",
   "name": "python3"
  },
  "language_info": {
   "codemirror_mode": {
    "name": "ipython",
    "version": 3
   },
   "file_extension": ".py",
   "mimetype": "text/x-python",
   "name": "python",
   "nbconvert_exporter": "python",
   "pygments_lexer": "ipython3",
   "version": "3.7.6"
  }
 },
 "nbformat": 4,
 "nbformat_minor": 4
}
