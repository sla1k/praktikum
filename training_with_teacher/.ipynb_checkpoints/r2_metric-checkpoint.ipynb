{
 "cells": [
  {
   "cell_type": "code",
   "execution_count": 16,
   "metadata": {},
   "outputs": [],
   "source": [
    "from sklearn.tree import DecisionTreeRegressor\n",
    "from sklearn.ensemble import RandomForestRegressor\n",
    "from sklearn.linear_model import LinearRegression\n",
    "from sklearn.model_selection import train_test_split, GridSearchCV\n",
    "from sklearn.metrics import r2_score\n",
    "import pandas as pd\n",
    "import joblib"
   ]
  },
  {
   "cell_type": "code",
   "execution_count": 2,
   "metadata": {},
   "outputs": [],
   "source": [
    "data = pd.read_csv('./datasets/flights_preprocessed.csv')"
   ]
  },
  {
   "cell_type": "code",
   "execution_count": 6,
   "metadata": {},
   "outputs": [
    {
     "data": {
      "text/plain": [
       "(77909, 23)"
      ]
     },
     "metadata": {},
     "output_type": "display_data"
    },
    {
     "name": "stdout",
     "output_type": "stream",
     "text": [
      "<class 'pandas.core.frame.DataFrame'>\n",
      "RangeIndex: 77909 entries, 0 to 77908\n",
      "Data columns (total 23 columns):\n",
      " #   Column                          Non-Null Count  Dtype  \n",
      "---  ------                          --------------  -----  \n",
      " 0   Month                           77909 non-null  float64\n",
      " 1   Day                             77909 non-null  float64\n",
      " 2   Day Of Week                     77909 non-null  float64\n",
      " 3   Origin Airport Delay Rate       77909 non-null  float64\n",
      " 4   Destination Airport Delay Rate  77909 non-null  float64\n",
      " 5   Scheduled Time                  77909 non-null  float64\n",
      " 6   Distance                        77909 non-null  float64\n",
      " 7   Scheduled Departure Hour        77909 non-null  float64\n",
      " 8   Scheduled Departure Minute      77909 non-null  float64\n",
      " 9   Arrival Delay                   77909 non-null  float64\n",
      " 10  Airline_AS                      77909 non-null  int64  \n",
      " 11  Airline_B6                      77909 non-null  int64  \n",
      " 12  Airline_DL                      77909 non-null  int64  \n",
      " 13  Airline_EV                      77909 non-null  int64  \n",
      " 14  Airline_F9                      77909 non-null  int64  \n",
      " 15  Airline_HA                      77909 non-null  int64  \n",
      " 16  Airline_MQ                      77909 non-null  int64  \n",
      " 17  Airline_NK                      77909 non-null  int64  \n",
      " 18  Airline_OO                      77909 non-null  int64  \n",
      " 19  Airline_UA                      77909 non-null  int64  \n",
      " 20  Airline_US                      77909 non-null  int64  \n",
      " 21  Airline_VX                      77909 non-null  int64  \n",
      " 22  Airline_WN                      77909 non-null  int64  \n",
      "dtypes: float64(10), int64(13)\n",
      "memory usage: 13.7 MB\n"
     ]
    }
   ],
   "source": [
    "display(data.shape)\n",
    "data.info()"
   ]
  },
  {
   "cell_type": "code",
   "execution_count": 5,
   "metadata": {},
   "outputs": [
    {
     "data": {
      "text/html": [
       "<div>\n",
       "<style scoped>\n",
       "    .dataframe tbody tr th:only-of-type {\n",
       "        vertical-align: middle;\n",
       "    }\n",
       "\n",
       "    .dataframe tbody tr th {\n",
       "        vertical-align: top;\n",
       "    }\n",
       "\n",
       "    .dataframe thead th {\n",
       "        text-align: right;\n",
       "    }\n",
       "</style>\n",
       "<table border=\"1\" class=\"dataframe\">\n",
       "  <thead>\n",
       "    <tr style=\"text-align: right;\">\n",
       "      <th></th>\n",
       "      <th>Month</th>\n",
       "      <th>Day</th>\n",
       "      <th>Day Of Week</th>\n",
       "      <th>Origin Airport Delay Rate</th>\n",
       "      <th>Destination Airport Delay Rate</th>\n",
       "      <th>Scheduled Time</th>\n",
       "      <th>Distance</th>\n",
       "      <th>Scheduled Departure Hour</th>\n",
       "      <th>Scheduled Departure Minute</th>\n",
       "      <th>Arrival Delay</th>\n",
       "      <th>...</th>\n",
       "      <th>Airline_EV</th>\n",
       "      <th>Airline_F9</th>\n",
       "      <th>Airline_HA</th>\n",
       "      <th>Airline_MQ</th>\n",
       "      <th>Airline_NK</th>\n",
       "      <th>Airline_OO</th>\n",
       "      <th>Airline_UA</th>\n",
       "      <th>Airline_US</th>\n",
       "      <th>Airline_VX</th>\n",
       "      <th>Airline_WN</th>\n",
       "    </tr>\n",
       "  </thead>\n",
       "  <tbody>\n",
       "    <tr>\n",
       "      <th>0</th>\n",
       "      <td>0.0</td>\n",
       "      <td>-0.956289</td>\n",
       "      <td>0.425688</td>\n",
       "      <td>-0.607571</td>\n",
       "      <td>-0.538144</td>\n",
       "      <td>1.064249</td>\n",
       "      <td>0.906818</td>\n",
       "      <td>-1.000305</td>\n",
       "      <td>1.551139</td>\n",
       "      <td>-13.0</td>\n",
       "      <td>...</td>\n",
       "      <td>0</td>\n",
       "      <td>0</td>\n",
       "      <td>0</td>\n",
       "      <td>0</td>\n",
       "      <td>0</td>\n",
       "      <td>0</td>\n",
       "      <td>0</td>\n",
       "      <td>0</td>\n",
       "      <td>0</td>\n",
       "      <td>1</td>\n",
       "    </tr>\n",
       "    <tr>\n",
       "      <th>1</th>\n",
       "      <td>0.0</td>\n",
       "      <td>0.144670</td>\n",
       "      <td>1.379526</td>\n",
       "      <td>-0.607571</td>\n",
       "      <td>2.050538</td>\n",
       "      <td>0.370303</td>\n",
       "      <td>0.425303</td>\n",
       "      <td>-1.000305</td>\n",
       "      <td>0.183960</td>\n",
       "      <td>-12.0</td>\n",
       "      <td>...</td>\n",
       "      <td>0</td>\n",
       "      <td>0</td>\n",
       "      <td>0</td>\n",
       "      <td>0</td>\n",
       "      <td>0</td>\n",
       "      <td>0</td>\n",
       "      <td>0</td>\n",
       "      <td>0</td>\n",
       "      <td>0</td>\n",
       "      <td>0</td>\n",
       "    </tr>\n",
       "    <tr>\n",
       "      <th>2</th>\n",
       "      <td>0.0</td>\n",
       "      <td>0.144670</td>\n",
       "      <td>1.379526</td>\n",
       "      <td>-0.607571</td>\n",
       "      <td>-0.538144</td>\n",
       "      <td>-1.279458</td>\n",
       "      <td>-1.156818</td>\n",
       "      <td>-2.664610</td>\n",
       "      <td>0.183960</td>\n",
       "      <td>189.0</td>\n",
       "      <td>...</td>\n",
       "      <td>0</td>\n",
       "      <td>0</td>\n",
       "      <td>0</td>\n",
       "      <td>0</td>\n",
       "      <td>0</td>\n",
       "      <td>0</td>\n",
       "      <td>0</td>\n",
       "      <td>1</td>\n",
       "      <td>0</td>\n",
       "      <td>0</td>\n",
       "    </tr>\n",
       "    <tr>\n",
       "      <th>3</th>\n",
       "      <td>0.0</td>\n",
       "      <td>-0.405810</td>\n",
       "      <td>0.902607</td>\n",
       "      <td>-0.607571</td>\n",
       "      <td>-0.538144</td>\n",
       "      <td>0.213183</td>\n",
       "      <td>0.145238</td>\n",
       "      <td>-0.792267</td>\n",
       "      <td>-0.089476</td>\n",
       "      <td>-7.0</td>\n",
       "      <td>...</td>\n",
       "      <td>0</td>\n",
       "      <td>0</td>\n",
       "      <td>0</td>\n",
       "      <td>0</td>\n",
       "      <td>0</td>\n",
       "      <td>0</td>\n",
       "      <td>0</td>\n",
       "      <td>0</td>\n",
       "      <td>0</td>\n",
       "      <td>1</td>\n",
       "    </tr>\n",
       "    <tr>\n",
       "      <th>4</th>\n",
       "      <td>0.0</td>\n",
       "      <td>0.695149</td>\n",
       "      <td>-1.481987</td>\n",
       "      <td>1.870459</td>\n",
       "      <td>-0.538144</td>\n",
       "      <td>-0.978311</td>\n",
       "      <td>-1.184660</td>\n",
       "      <td>-1.624419</td>\n",
       "      <td>1.058954</td>\n",
       "      <td>-4.0</td>\n",
       "      <td>...</td>\n",
       "      <td>1</td>\n",
       "      <td>0</td>\n",
       "      <td>0</td>\n",
       "      <td>0</td>\n",
       "      <td>0</td>\n",
       "      <td>0</td>\n",
       "      <td>0</td>\n",
       "      <td>0</td>\n",
       "      <td>0</td>\n",
       "      <td>0</td>\n",
       "    </tr>\n",
       "  </tbody>\n",
       "</table>\n",
       "<p>5 rows × 23 columns</p>\n",
       "</div>"
      ],
      "text/plain": [
       "   Month       Day  Day Of Week  Origin Airport Delay Rate  \\\n",
       "0    0.0 -0.956289     0.425688                  -0.607571   \n",
       "1    0.0  0.144670     1.379526                  -0.607571   \n",
       "2    0.0  0.144670     1.379526                  -0.607571   \n",
       "3    0.0 -0.405810     0.902607                  -0.607571   \n",
       "4    0.0  0.695149    -1.481987                   1.870459   \n",
       "\n",
       "   Destination Airport Delay Rate  Scheduled Time  Distance  \\\n",
       "0                       -0.538144        1.064249  0.906818   \n",
       "1                        2.050538        0.370303  0.425303   \n",
       "2                       -0.538144       -1.279458 -1.156818   \n",
       "3                       -0.538144        0.213183  0.145238   \n",
       "4                       -0.538144       -0.978311 -1.184660   \n",
       "\n",
       "   Scheduled Departure Hour  Scheduled Departure Minute  Arrival Delay  ...  \\\n",
       "0                 -1.000305                    1.551139          -13.0  ...   \n",
       "1                 -1.000305                    0.183960          -12.0  ...   \n",
       "2                 -2.664610                    0.183960          189.0  ...   \n",
       "3                 -0.792267                   -0.089476           -7.0  ...   \n",
       "4                 -1.624419                    1.058954           -4.0  ...   \n",
       "\n",
       "   Airline_EV  Airline_F9  Airline_HA  Airline_MQ  Airline_NK  Airline_OO  \\\n",
       "0           0           0           0           0           0           0   \n",
       "1           0           0           0           0           0           0   \n",
       "2           0           0           0           0           0           0   \n",
       "3           0           0           0           0           0           0   \n",
       "4           1           0           0           0           0           0   \n",
       "\n",
       "   Airline_UA  Airline_US  Airline_VX  Airline_WN  \n",
       "0           0           0           0           1  \n",
       "1           0           0           0           0  \n",
       "2           0           1           0           0  \n",
       "3           0           0           0           1  \n",
       "4           0           0           0           0  \n",
       "\n",
       "[5 rows x 23 columns]"
      ]
     },
     "metadata": {},
     "output_type": "display_data"
    }
   ],
   "source": [
    "display(data.head())"
   ]
  },
  {
   "cell_type": "code",
   "execution_count": 9,
   "metadata": {},
   "outputs": [],
   "source": [
    "features = data.drop('Arrival Delay', axis=1)\n",
    "target = data['Arrival Delay']"
   ]
  },
  {
   "cell_type": "code",
   "execution_count": 10,
   "metadata": {},
   "outputs": [],
   "source": [
    "features_train, features_valid, target_train, target_valid = train_test_split(features, target, test_size=0.2, random_state=12345)"
   ]
  },
  {
   "cell_type": "code",
   "execution_count": 12,
   "metadata": {},
   "outputs": [
    {
     "data": {
      "text/plain": [
       "LinearRegression()"
      ]
     },
     "execution_count": 12,
     "metadata": {},
     "output_type": "execute_result"
    }
   ],
   "source": [
    "linear_regression_model = LinearRegression()\n",
    "linear_regression_model.fit(features_train, target_train)"
   ]
  },
  {
   "cell_type": "code",
   "execution_count": 13,
   "metadata": {},
   "outputs": [
    {
     "name": "stdout",
     "output_type": "stream",
     "text": [
      "0.09992799031301902\n"
     ]
    }
   ],
   "source": [
    "print(linear_regression_model.score(features_valid, target_valid))"
   ]
  },
  {
   "cell_type": "code",
   "execution_count": 20,
   "metadata": {},
   "outputs": [
    {
     "name": "stdout",
     "output_type": "stream",
     "text": [
      "{'max_depth': 9, 'n_estimators': 15}\n",
      "CPU times: user 59.8 s, sys: 194 ms, total: 1min\n",
      "Wall time: 1min\n"
     ]
    }
   ],
   "source": [
    "%%time\n",
    "\n",
    "forest_param_grid = {'max_depth': [deep for deep in range(1, 16, 2)],\n",
    "                    'n_estimators': [10, 15]}\n",
    "forest_gs = GridSearchCV(RandomForestRegressor(random_state=12345), param_grid=forest_param_grid)\n",
    "\n",
    "forest_gs.fit(features_train, target_train)\n",
    "\n",
    "print(forest_gs.best_params_)"
   ]
  },
  {
   "cell_type": "code",
   "execution_count": 21,
   "metadata": {},
   "outputs": [
    {
     "data": {
      "text/plain": [
       "RandomForestRegressor(max_depth=9, random_state=12345)"
      ]
     },
     "execution_count": 21,
     "metadata": {},
     "output_type": "execute_result"
    }
   ],
   "source": [
    "random_forest_model = RandomForestRegressor(random_state=12345, max_depth=9, n_estimators=100)\n",
    "random_forest_model.fit(features_train, target_train)"
   ]
  },
  {
   "cell_type": "code",
   "execution_count": 22,
   "metadata": {},
   "outputs": [
    {
     "name": "stdout",
     "output_type": "stream",
     "text": [
      "0.2665963341918417\n",
      "0.15518627091098214\n"
     ]
    }
   ],
   "source": [
    "print(random_forest_model.score(features_train, target_train))\n",
    "print(random_forest_model.score(features_valid, target_valid))"
   ]
  },
  {
   "cell_type": "code",
   "execution_count": null,
   "metadata": {},
   "outputs": [],
   "source": [
    "joblib.dump(random_forest_model, 'best_r2.joblib')"
   ]
  }
 ],
 "metadata": {
  "kernelspec": {
   "display_name": "Python 3",
   "language": "python",
   "name": "python3"
  },
  "language_info": {
   "codemirror_mode": {
    "name": "ipython",
    "version": 3
   },
   "file_extension": ".py",
   "mimetype": "text/x-python",
   "name": "python",
   "nbconvert_exporter": "python",
   "pygments_lexer": "ipython3",
   "version": "3.7.6"
  }
 },
 "nbformat": 4,
 "nbformat_minor": 4
}
