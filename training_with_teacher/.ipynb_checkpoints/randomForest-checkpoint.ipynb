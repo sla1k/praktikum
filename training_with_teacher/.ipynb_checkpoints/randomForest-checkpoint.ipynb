{
 "cells": [
  {
   "cell_type": "code",
   "execution_count": 83,
   "metadata": {},
   "outputs": [],
   "source": [
    "import pandas as pd\n",
    "from sklearn.ensemble import RandomForestClassifier\n",
    "from sklearn.model_selection import train_test_split\n",
    "import joblib\n"
   ]
  },
  {
   "cell_type": "code",
   "execution_count": 84,
   "metadata": {},
   "outputs": [],
   "source": [
    "df = pd.read_csv('datasets/train_data.csv')\n",
    "\n",
    "df.loc[df['last_price'] > 5650000, 'price_class'] = 1\n",
    "df.loc[df['last_price'] <= 5650000, 'price_class'] = 0\n",
    "\n",
    "df_train, df_valid = train_test_split(df, test_size=0.25, random_state=12345)\n",
    "\n",
    "features = df_train.drop(['last_price', 'price_class'], axis=1)\n",
    "target = df_train['price_class']\n",
    "\n",
    "features_valid = df_valid.drop(['last_price', 'price_class'], axis=1)\n",
    "target_valid = df_valid['price_class']"
   ]
  },
  {
   "cell_type": "code",
   "execution_count": 85,
   "metadata": {
    "tags": []
   },
   "outputs": [],
   "source": [
    "best_score = 0\n",
    "best_estimator = 0\n",
    "\n",
    "for n in range(1, 11):\n",
    "    model = RandomForestClassifier(random_state=12345, n_estimators=n)\n",
    "    model.fit(features, target)\n",
    "\n",
    "    # print(model.score(features, target))\n",
    "    score = model.score(features_valid, target_valid)\n",
    "    print(model.score(features, target))\n",
    "    print(score)\n",
    "    if best_score < score:\n",
    "        best_score = score\n",
    "        best_estimator = n\n",
    "    print()\n",
    "print(best_score)\n",
    "print(best_estimator)"
   ]
  },
  {
   "cell_type": "code",
   "execution_count": 86,
   "metadata": {},
   "outputs": [
    {
     "output_type": "execute_result",
     "data": {
      "text/plain": "RandomForestClassifier(bootstrap=True, ccp_alpha=0.0, class_weight=None,\n                       criterion='gini', max_depth=None, max_features='auto',\n                       max_leaf_nodes=None, max_samples=None,\n                       min_impurity_decrease=0.0, min_impurity_split=None,\n                       min_samples_leaf=1, min_samples_split=2,\n                       min_weight_fraction_leaf=0.0, n_estimators=5,\n                       n_jobs=None, oob_score=False, random_state=12345,\n                       verbose=0, warm_start=False)"
     },
     "metadata": {},
     "execution_count": 86
    }
   ],
   "source": [
    "model = RandomForestClassifier(random_state=12345, n_estimators=best_estimator)\n",
    "model.fit(features, target)"
   ]
  },
  {
   "cell_type": "code",
   "execution_count": 87,
   "metadata": {},
   "outputs": [
    {
     "output_type": "execute_result",
     "data": {
      "text/plain": "['model.joblib']"
     },
     "metadata": {},
     "execution_count": 87
    }
   ],
   "source": [
    "joblib.dump(model, 'model.joblib')"
   ]
  }
 ],
 "metadata": {
  "language_info": {
   "codemirror_mode": {
    "name": "ipython",
    "version": 3
   },
   "file_extension": ".py",
   "mimetype": "text/x-python",
   "name": "python",
   "nbconvert_exporter": "python",
   "pygments_lexer": "ipython3",
   "version": "3.7.6-final"
  },
  "orig_nbformat": 2,
  "kernelspec": {
   "name": "python3",
   "display_name": "Python 3"
  }
 },
 "nbformat": 4,
 "nbformat_minor": 2
}